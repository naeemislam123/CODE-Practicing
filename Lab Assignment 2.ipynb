{
 "cells": [
  {
   "cell_type": "code",
   "execution_count": 4,
   "id": "be783ff0",
   "metadata": {},
   "outputs": [
    {
     "name": "stdout",
     "output_type": "stream",
     "text": [
      "-10,-5,0,5,10,15,20"
     ]
    }
   ],
   "source": [
    "#task 1 (b)-10,-5,0,5,10,15,20\n",
    "\n",
    "counter = -10\n",
    "while (counter <= 20):\n",
    "    if counter == 20:\n",
    "        print(counter, end= \"\")\n",
    "    else:\n",
    "        print(counter,end =\",\")\n",
    "    counter = counter +5"
   ]
  },
  {
   "cell_type": "code",
   "execution_count": 5,
   "id": "f1a1f4cc",
   "metadata": {},
   "outputs": [
    {
     "name": "stdout",
     "output_type": "stream",
     "text": [
      "18,27,36,45,54,63"
     ]
    }
   ],
   "source": [
    "#task 1 (c)18, 27, 36, 45, 54, 63\n",
    "counter = 18\n",
    "while (counter <= 63):\n",
    "    if counter == 63:\n",
    "        print(counter, end= \"\")\n",
    "    else:\n",
    "        print(counter,end =\",\")\n",
    "    counter = counter +9"
   ]
  },
  {
   "cell_type": "code",
   "execution_count": 7,
   "id": "f79c9c1b",
   "metadata": {},
   "outputs": [
    {
     "name": "stdout",
     "output_type": "stream",
     "text": [
      "18,-27,36,-45,54,-63"
     ]
    }
   ],
   "source": [
    "# task 1 (d) 18, -27, 36, -45, 54, -63\n",
    "for x in range (2,8):\n",
    "    if (x*(-9)== -63): \n",
    "        print(x*(-9), end=\"\" )\n",
    "    elif (x%2==0):\n",
    "        print(x*9, end=\",\")\n",
    "    else:\n",
    "        print(x*(-9), end=\",\")"
   ]
  },
  {
   "cell_type": "code",
   "execution_count": 9,
   "id": "ec1d04bc",
   "metadata": {},
   "outputs": [
    {
     "name": "stdout",
     "output_type": "stream",
     "text": [
      "Enter the car name:Audi\n",
      "Enter a number:6\n",
      "Audi\n",
      "Audi\n",
      "Audi\n",
      "Audi\n",
      "Audi\n",
      "Audi\n"
     ]
    }
   ],
   "source": [
    "#task 2\n",
    "car_name = input(\"Enter the car name:\")\n",
    "number = int(input(\"Enter a number:\"))\n",
    "for x in range (1,number+1):\n",
    "    print(car_name)"
   ]
  },
  {
   "cell_type": "code",
   "execution_count": 10,
   "id": "a70c7901",
   "metadata": {},
   "outputs": [
    {
     "name": "stdout",
     "output_type": "stream",
     "text": [
      "2835\n"
     ]
    }
   ],
   "source": [
    "#task 3\n",
    "sum = 0\n",
    "for number in range(1,601):\n",
    "    if(number%7==0 and number%9==0):\n",
    "        sum=sum+number\n",
    "print(sum)        "
   ]
  },
  {
   "cell_type": "code",
   "execution_count": 11,
   "id": "5f3cfa07",
   "metadata": {},
   "outputs": [
    {
     "name": "stdout",
     "output_type": "stream",
     "text": [
      "42649\n"
     ]
    }
   ],
   "source": [
    "#task 4\n",
    "sum = 0\n",
    "for number in range(1,601):\n",
    "    if(number%7==0 or number%9==0):\n",
    "        sum=sum+number\n",
    "print(sum)"
   ]
  },
  {
   "cell_type": "code",
   "execution_count": 16,
   "id": "2bce9df0",
   "metadata": {},
   "outputs": [
    {
     "name": "stdout",
     "output_type": "stream",
     "text": [
      "39814\n"
     ]
    }
   ],
   "source": [
    "#task 5\n",
    "sum = 0\n",
    "for number in range(1,601):\n",
    "    if(number%7==0 or number%9==0):\n",
    "        if(number%7==0 and number%9!=0):\n",
    "            sum= sum + number    \n",
    "        elif(number%7!=0 and number%9==0):\n",
    "            sum = sum+number\n",
    "print(sum)"
   ]
  },
  {
   "cell_type": "code",
   "execution_count": 21,
   "id": "7d509301",
   "metadata": {},
   "outputs": [
    {
     "name": "stdout",
     "output_type": "stream",
     "text": [
      "11 13 15 17 19 21 23 25 27 29 31 33 35 37 39 41 43 45 47 49 "
     ]
    }
   ],
   "source": [
    "#task 6\n",
    "sum = 0\n",
    "for number in range(10,51):\n",
    "    if(number%2!=0):\n",
    "        print(number, end= \" \")"
   ]
  },
  {
   "cell_type": "code",
   "execution_count": 22,
   "id": "de0f6387",
   "metadata": {},
   "outputs": [
    {
     "name": "stdout",
     "output_type": "stream",
     "text": [
      "Enter a number:20\n",
      "-210\n"
     ]
    }
   ],
   "source": [
    "#task 7 \n",
    "y = 0\n",
    "n = int(input(\"Enter a number:\"))\n",
    "for number in range(1,n+1):\n",
    "    if(number%2!=0):\n",
    "        y= y+(number**2)  \n",
    "    else:\n",
    "        y = y-number**2\n",
    "print(y)        "
   ]
  },
  {
   "cell_type": "code",
   "execution_count": 8,
   "id": "7f74d501",
   "metadata": {},
   "outputs": [
    {
     "name": "stdout",
     "output_type": "stream",
     "text": [
      "Enter a number:456\n",
      "Enter a number:36\n",
      "Enter a number:3\n",
      "Enter a number:5\n",
      "Enter a number:75\n",
      "Enter a number:35\n",
      "Enter a number:67\n",
      "Enter a number:2\n",
      "Enter a number:56\n",
      "Enter a number:2\n",
      "total is  185 and Average is  37.0\n"
     ]
    }
   ],
   "source": [
    "#task 8 \n",
    "sum = 0\n",
    "counter = 0\n",
    "for n in range(10):\n",
    "    number = int(input(\"Enter a number:\"))\n",
    "    if (number%2!=0):\n",
    "        sum = sum + number\n",
    "        counter = counter +1\n",
    "print(\"Total is \", sum, \"and Average is \", sum/counter)"
   ]
  },
  {
   "cell_type": "markdown",
   "id": "529d4f7e",
   "metadata": {},
   "source": [
    "#task 10\n",
    "sum = 0\n",
    "for i in range(10):\n",
    "    n= int(input(\"Enter the number:\"))\n",
    "    sum = sum + n \n",
    "    print (sum)    "
   ]
  },
  {
   "cell_type": "code",
   "execution_count": 13,
   "id": "0aa141cf",
   "metadata": {},
   "outputs": [
    {
     "name": "stdout",
     "output_type": "stream",
     "text": [
      "Enter a number:50\n",
      "196\n"
     ]
    }
   ],
   "source": [
    "#task 9\n",
    "sum = 0\n",
    "x = 7\n",
    "number = int(input(\"Enter a number:\"))\n",
    "for i in range (1,number+1): \n",
    "    \n",
    "    if (x<=number):\n",
    "        sum = sum + x\n",
    "        x = x+7\n",
    "print(sum)  "
   ]
  },
  {
   "cell_type": "code",
   "execution_count": 20,
   "id": "4c74d343",
   "metadata": {},
   "outputs": [
    {
     "name": "stdout",
     "output_type": "stream",
     "text": [
      "Enter a number32768\n",
      "8,6,7,2,3 "
     ]
    }
   ],
   "source": [
    "#task 11\n",
    "number =input(\"Enter a number\")\n",
    "x = int(number)\n",
    "for i in number: #while true :\n",
    "    riminder = x%10\n",
    "    if (x<10):\n",
    "        print(riminder, end = \" \")\n",
    "        \n",
    "    else:\n",
    "        print (riminder, end = \",\")\n",
    "    x = x//10    "
   ]
  },
  {
   "cell_type": "code",
   "execution_count": 1,
   "id": "d71a2e34",
   "metadata": {},
   "outputs": [
    {
     "name": "stdout",
     "output_type": "stream",
     "text": [
      "Enter the number:45637\n",
      "5\n"
     ]
    }
   ],
   "source": [
    "#task 12\n",
    "number = int(input(\"Enter the number:\"))\n",
    "count = 0\n",
    "while True:\n",
    "    number= number//10\n",
    "    count = count + 1\n",
    "    if (number==0):\n",
    "        break\n",
    "print(count)"
   ]
  },
  {
   "cell_type": "code",
   "execution_count": 8,
   "id": "fbb8e3f1",
   "metadata": {},
   "outputs": [
    {
     "name": "stdout",
     "output_type": "stream",
     "text": [
      "Enter a number56735\n",
      "5,6,7,3,5"
     ]
    }
   ],
   "source": [
    "#task 13\n",
    "number =input(\"Enter a number:\")\n",
    "number = int(number)\n",
    "number1 = number\n",
    "count = 0\n",
    "while True:\n",
    "    number= number//10\n",
    "    count = count + 1\n",
    "    if (number==0):\n",
    "        break\n",
    "new_number = 10**(count-1)\n",
    "for i in range(count):\n",
    "    riminder = number1//new_number\n",
    "    number1 = number1%new_number\n",
    "    \n",
    "    if (new_number<10):\n",
    "         print(riminder, end= \"\")\n",
    "    else:    \n",
    "        print(riminder, end = \",\")  \n",
    "    new_number = new_number//10    "
   ]
  },
  {
   "cell_type": "code",
   "execution_count": 35,
   "id": "40ef5789",
   "metadata": {},
   "outputs": [
    {
     "name": "stdout",
     "output_type": "stream",
     "text": [
      "Enter the number:30\n",
      "30  is not a perfect number\n"
     ]
    }
   ],
   "source": [
    "#taas 15\n",
    "num = int(input(\"Enter the number:\"))\n",
    "sum1 = 0\n",
    "for number in range(1,num):\n",
    "    if (num%number==0):\n",
    "        sum1 = sum1 + number\n",
    "               \n",
    "if (sum1==num):\n",
    "    print(num, \" is a perfect number\")\n",
    "else:\n",
    "    print(num, \" is not a perfect number\")"
   ]
  },
  {
   "cell_type": "code",
   "execution_count": 14,
   "id": "fe5a9e7d",
   "metadata": {},
   "outputs": [
    {
     "name": "stdout",
     "output_type": "stream",
     "text": [
      "Enter the number:30\n",
      "1,2,3,5,6,10,15,30\n",
      "Total 8 divisors\n"
     ]
    }
   ],
   "source": [
    "#task 14\n",
    "sum1 = 0\n",
    "count = 1\n",
    "num = int(input(\"Enter the number:\"))\n",
    "for number in range(1,num):\n",
    "    if (num%number==0):\n",
    "        sum1 = sum1 + 1\n",
    "        count = count + 1 \n",
    "        print(number, end =\",\")\n",
    "print(num) \n",
    "print(\"Total\", count,\"divisors\")"
   ]
  },
  {
   "cell_type": "code",
   "execution_count": 37,
   "id": "4e39d3cb",
   "metadata": {},
   "outputs": [
    {
     "name": "stdout",
     "output_type": "stream",
     "text": [
      "Enter a number:11\n",
      "11 is a prime number\n"
     ]
    }
   ],
   "source": [
    "#task 16\n",
    "number = int(input(\"Enter a number:\"))\n",
    "sum1 = 0\n",
    "for i in range(1,number+1):\n",
    "    if(number%i==0):\n",
    "        sum1 = sum1 + 1\n",
    "if(sum1==2):\n",
    "    print(number, \"is a prime number\")\n",
    "else:\n",
    "    print(number, \"is not a prime number\")"
   ]
  },
  {
   "cell_type": "code",
   "execution_count": 2,
   "id": "603080ec",
   "metadata": {},
   "outputs": [
    {
     "name": "stdout",
     "output_type": "stream",
     "text": [
      "Enter the number:3\n",
      "Enter the number:4\n",
      "Enter the number:6\n",
      "Enter the number:24\n",
      "Maximum  24\n",
      "Minimum  99999999\n",
      "Average is  11.333333333333334\n"
     ]
    }
   ],
   "source": [
    "#task 17\n",
    "quantity= int(input(\"Enter the number:\"))\n",
    "sum1 = 0\n",
    "max1=-99999999\n",
    "min1=99999999\n",
    "for i in range(quantity):\n",
    "    number= int(input(\"Enter the number:\"))\n",
    "    if(number>max1):\n",
    "        max1= number \n",
    "    elif (number<min1):\n",
    "        min1=number\n",
    "    sum1 = sum1 + number\n",
    "average = sum1/quantity\n",
    "print(\"Maximum \" ,max1)\n",
    "print(\"Minimum \" , min1)\n",
    "print(\"Average is \" ,average)"
   ]
  },
  {
   "cell_type": "code",
   "execution_count": 1,
   "id": "37e8c255",
   "metadata": {},
   "outputs": [
    {
     "name": "stdout",
     "output_type": "stream",
     "text": [
      "Enter the number:4\n",
      "Enter the number:6\n",
      "123456\n",
      "123456\n",
      "123456\n",
      "123456\n"
     ]
    }
   ],
   "source": [
    "#task 19\n",
    "row = int(input(\"Enter the number:\"))\n",
    "column = int(input(\"Enter the number:\"))\n",
    "for i in range (row):\n",
    "    for j in range(1,column+1):\n",
    "        print(j, end = \"\")\n",
    "    print() "
   ]
  },
  {
   "cell_type": "code",
   "execution_count": 1,
   "id": "384ca364",
   "metadata": {},
   "outputs": [
    {
     "name": "stdout",
     "output_type": "stream",
     "text": [
      "Enter the number:5\n",
      "\n",
      "1\n",
      "12\n",
      "123\n",
      "1234\n",
      "12345\n"
     ]
    }
   ],
   "source": [
    "#task 20\n",
    "n = int(input(\"Enter the number:\"))\n",
    "for i in range (n + 1):\n",
    "    for j in range(1,i+1):\n",
    "        print(j, end = \"\")\n",
    "    print() "
   ]
  },
  {
   "cell_type": "code",
   "execution_count": 3,
   "id": "46e97191",
   "metadata": {},
   "outputs": [
    {
     "name": "stdout",
     "output_type": "stream",
     "text": [
      "Enter the number:5\n",
      "+++++\n",
      "+++++\n",
      "+++++\n",
      "+++++\n",
      "+++++\n"
     ]
    }
   ],
   "source": [
    "#task 18\n",
    "n = int(input(\"Enter the number:\"))\n",
    "for i in range (n):\n",
    "    print(n*\"+\")"
   ]
  },
  {
   "cell_type": "code",
   "execution_count": null,
   "id": "cbe4c63d",
   "metadata": {},
   "outputs": [],
   "source": []
  }
 ],
 "metadata": {
  "kernelspec": {
   "display_name": "Python 3",
   "language": "python",
   "name": "python3"
  },
  "language_info": {
   "codemirror_mode": {
    "name": "ipython",
    "version": 3
   },
   "file_extension": ".py",
   "mimetype": "text/x-python",
   "name": "python",
   "nbconvert_exporter": "python",
   "pygments_lexer": "ipython3",
   "version": "3.8.8"
  }
 },
 "nbformat": 4,
 "nbformat_minor": 5
}
