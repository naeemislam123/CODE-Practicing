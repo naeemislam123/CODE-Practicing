{
 "cells": [
  {
   "cell_type": "code",
   "execution_count": 14,
   "id": "25952c90",
   "metadata": {},
   "outputs": [
    {
     "name": "stdout",
     "output_type": "stream",
     "text": [
      "Enrer a number:5\n",
      "11111\n",
      "2###2\n",
      "33333\n",
      "4###4\n",
      "55555\n"
     ]
    }
   ],
   "source": [
    "n= int(input(\"Enrer a number:\"))\n",
    "if (n%2==0):\n",
    "    print(\"invalid input\")\n",
    "else:  \n",
    "    for line in range(1,n+1):\n",
    "        for y in range(1,n+1):\n",
    "            if (line%2==0 and y!=1 and y!=n):\n",
    "                print (\"#\" , end=\"\" )\n",
    "            else:\n",
    "                print(line, end= \"\")\n",
    "        print() "
   ]
  },
  {
   "cell_type": "code",
   "execution_count": null,
   "id": "cea3ff2c",
   "metadata": {},
   "outputs": [],
   "source": [
    "#task2\n",
    "\n",
    "x = input()\n",
    "counter = 0\n",
    "for i in range (len(x)):\n",
    "    x[i].lower()= x[i].upper()\n",
    "    if(x[i] in x)"
   ]
  },
  {
   "cell_type": "code",
   "execution_count": 16,
   "id": "2e87992e",
   "metadata": {},
   "outputs": [
    {
     "name": "stdout",
     "output_type": "stream",
     "text": [
      "asdfh\n",
      "asdfh\n",
      "['a', 's', 'd', 'f', 'h']\n",
      "['a', 's', 'd', 'f', 'h']\n",
      "['a', 's', 'd', 'f', 'h']\n",
      "['a', 's', 'd', 'f', 'h']\n"
     ]
    }
   ],
   "source": [
    "string=input()\n",
    "string=string.lower()\n",
    "print(string)\n",
    "list1=[]\n",
    "for i in range(len(string)):\n",
    "    list1.append(string[i])\n",
    "print(list1)\n",
    "new_list1=[]\n",
    "list2=[]\n",
    "for j in list1:\n",
    "    if j not in new_list1:\n",
    "        new_list1.append(j)\n",
    "print(new_list1)\n",
    "count=0\n",
    "for k in list1:\n",
    "    for m in new_list1:\n",
    "        if m==k:\n",
    "            count= count + 1\n",
    "    if count%2==0:\n",
    "        print(new_list1)"
   ]
  },
  {
   "cell_type": "code",
   "execution_count": 20,
   "id": "471e0f42",
   "metadata": {},
   "outputs": [
    {
     "name": "stdout",
     "output_type": "stream",
     "text": [
      "lowrreen\n",
      "['l', 'o', 'w', 'n']\n"
     ]
    }
   ],
   "source": [
    "string=input().lower()\n",
    "oddList=[]\n",
    "# counter = 0\n",
    "for i in string:\n",
    "    if i not in oddList:\n",
    "        for j in string:\n",
    "            if i==j:\n",
    "                counter+=1\n",
    "        if (counter%2!=0 and counter!=0):\n",
    "            oddList.append(i)\n",
    "        counter=0        \n",
    "print(oddList)"
   ]
  },
  {
   "cell_type": "code",
   "execution_count": 25,
   "id": "0f6cf864",
   "metadata": {},
   "outputs": [
    {
     "name": "stdout",
     "output_type": "stream",
     "text": [
      "Expecto Patronum\n",
      "['e', 'p', 't', 'o']\n"
     ]
    }
   ],
   "source": [
    "string=input()\n",
    "string = string.lower()\n",
    "even_List=[]\n",
    "counter = 0\n",
    "for i in string:\n",
    "    if i not in even_List:\n",
    "        for j in string:\n",
    "            if i==j:\n",
    "                counter+=1\n",
    "        if (counter%2==0 and counter!=0):\n",
    "            even_List.append(i)\n",
    "        counter=0        \n",
    "print(even_List)"
   ]
  },
  {
   "cell_type": "code",
   "execution_count": 29,
   "id": "18a8d9b6",
   "metadata": {
    "scrolled": false
   },
   "outputs": [
    {
     "name": "stdout",
     "output_type": "stream",
     "text": [
      "Enter a number:5\n",
      "#####\n",
      "#####\n",
      "#####\n",
      "#####\n"
     ]
    }
   ],
   "source": [
    "n = int(input(\"Enter a number:\"))\n",
    "for i in range(n):\n",
    "    print(\"#\"*n)\n",
    "    #for "
   ]
  },
  {
   "cell_type": "code",
   "execution_count": 62,
   "id": "55d228b8",
   "metadata": {},
   "outputs": [
    {
     "name": "stdout",
     "output_type": "stream",
     "text": [
      "5\n",
      "####\n",
      "###\n",
      "##\n",
      "#\n",
      "\n"
     ]
    }
   ],
   "source": [
    "n =input()\n",
    "x = 0\n",
    "if n.isdigit()!= True:\n",
    "     print(\"Invalid\")\n",
    "else:\n",
    "    n = int(n) \n",
    "    for r in range(n): #0 / \n",
    "        for c in range(n):#0 / 1 \n",
    "            if c<(n-(r+1)):#0<4 / 1<3\n",
    "                print(\"#\",end=\"\")\n",
    "            else:\n",
    "                x+=1\n",
    "                print(chr(64+x),end=\"\")\n",
    "        print()"
   ]
  },
  {
   "cell_type": "code",
   "execution_count": null,
   "id": "9da366b2",
   "metadata": {},
   "outputs": [],
   "source": [
    "n = int(input())\n",
    "x=-1\n",
    "for r in range(1,n+1):\n",
    "    for c in range(1,n+1):\n",
    "        if c<(n-(r-1)) and c!=0:\n",
    "            print(\"#\",end=\"\")\n",
    "        else:\n",
    "            x+=1\n",
    "            print(chr(65+x),end=\"\")\n",
    "    print()"
   ]
  },
  {
   "cell_type": "code",
   "execution_count": 66,
   "id": "2ac28f23",
   "metadata": {},
   "outputs": [
    {
     "name": "stdout",
     "output_type": "stream",
     "text": [
      "5\n",
      "####A\n",
      "###BC\n",
      "##DEF\n",
      "#GHIJ\n",
      "KLMNO\n"
     ]
    }
   ],
   "source": [
    "n =input()\n",
    "x = 0\n",
    "if n.isdigit()!= True:\n",
    "     print(\"Invalid\")\n",
    "else:\n",
    "    n = int(n) \n",
    "    for r in range(n): #0 / \n",
    "        for c in range(n):#0 / 1 \n",
    "            if c<(n-(r+1)):#0<4 / 1<3\n",
    "                print(\"#\",end=\"\")\n",
    "            else:\n",
    "                x+=1\n",
    "                print(chr(64+x),end=\"\")\n",
    "        print()"
   ]
  },
  {
   "cell_type": "code",
   "execution_count": null,
   "id": "d027badb",
   "metadata": {},
   "outputs": [],
   "source": []
  }
 ],
 "metadata": {
  "kernelspec": {
   "display_name": "Python 3",
   "language": "python",
   "name": "python3"
  },
  "language_info": {
   "codemirror_mode": {
    "name": "ipython",
    "version": 3
   },
   "file_extension": ".py",
   "mimetype": "text/x-python",
   "name": "python",
   "nbconvert_exporter": "python",
   "pygments_lexer": "ipython3",
   "version": "3.8.8"
  }
 },
 "nbformat": 4,
 "nbformat_minor": 5
}
