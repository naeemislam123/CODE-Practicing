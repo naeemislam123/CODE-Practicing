{
 "cells": [
  {
   "cell_type": "code",
   "execution_count": 14,
   "id": "25952c90",
   "metadata": {},
   "outputs": [
    {
     "name": "stdout",
     "output_type": "stream",
     "text": [
      "Enrer a number:5\n",
      "11111\n",
      "2###2\n",
      "33333\n",
      "4###4\n",
      "55555\n"
     ]
    }
   ],
   "source": [
    "n= int(input(\"Enrer a number:\"))\n",
    "if (n%2==0):\n",
    "    print(\"invalid input\")\n",
    "else:  \n",
    "    for line in range(1,n+1):\n",
    "        for y in range(1,n+1):\n",
    "            if (line%2==0 and y!=1 and y!=n):\n",
    "                print (\"#\" , end=\"\" )\n",
    "            else:\n",
    "                print(line, end= \"\")\n",
    "        print() "
   ]
  },
  {
   "cell_type": "code",
   "execution_count": null,
   "id": "cea3ff2c",
   "metadata": {},
   "outputs": [],
   "source": [
    "#task2\n",
    "\n",
    "x = input()\n",
    "counter = 0\n",
    "for i in range (len(x)):\n",
    "    x[i].lower()= x[i].upper()\n",
    "    if(x[i] in x)"
   ]
  },
  {
   "cell_type": "code",
   "execution_count": 16,
   "id": "2e87992e",
   "metadata": {},
   "outputs": [
    {
     "name": "stdout",
     "output_type": "stream",
     "text": [
      "asdfh\n",
      "asdfh\n",
      "['a', 's', 'd', 'f', 'h']\n",
      "['a', 's', 'd', 'f', 'h']\n",
      "['a', 's', 'd', 'f', 'h']\n",
      "['a', 's', 'd', 'f', 'h']\n"
     ]
    }
   ],
   "source": [
    "string=input()\n",
    "string=string.lower()\n",
    "print(string)\n",
    "list1=[]\n",
    "for i in range(len(string)):\n",
    "    list1.append(string[i])\n",
    "print(list1)\n",
    "new_list1=[]\n",
    "list2=[]\n",
    "for j in list1:\n",
    "    if j not in new_list1:\n",
    "        new_list1.append(j)\n",
    "print(new_list1)\n",
    "count=0\n",
    "for k in list1:\n",
    "    for m in new_list1:\n",
    "        if m==k:\n",
    "            count= count + 1\n",
    "    if count%2==0:\n",
    "        print(new_list1)"
   ]
  },
  {
   "cell_type": "code",
   "execution_count": null,
   "id": "471e0f42",
   "metadata": {},
   "outputs": [],
   "source": []
  }
 ],
 "metadata": {
  "kernelspec": {
   "display_name": "Python 3",
   "language": "python",
   "name": "python3"
  },
  "language_info": {
   "codemirror_mode": {
    "name": "ipython",
    "version": 3
   },
   "file_extension": ".py",
   "mimetype": "text/x-python",
   "name": "python",
   "nbconvert_exporter": "python",
   "pygments_lexer": "ipython3",
   "version": "3.8.8"
  }
 },
 "nbformat": 4,
 "nbformat_minor": 5
}
