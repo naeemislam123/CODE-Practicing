{
 "cells": [
  {
   "cell_type": "code",
   "execution_count": 55,
   "id": "23ff9817",
   "metadata": {},
   "outputs": [
    {
     "name": "stdout",
     "output_type": "stream",
     "text": [
      "{'Jon': 100, 'Dan':200, 'Rob':30, 'Ned':110}\n",
      "{'Jon': 100, 'Dan': 200, 'Rob': 30, 'Ned': 110}\n"
     ]
    }
   ],
   "source": [
    "#dictenory convert\n",
    "dictenory1 = input().replace(\" \",\"\") \n",
    "dictenory1 = dictenory1[1:-1]\n",
    "\n",
    "list1 = dictenory1.split(\",\")\n",
    "\n",
    "\n",
    "dictenory2 = {}\n",
    "\n",
    "for z in list1:\n",
    "    a = z.split(\":\")\n",
    "    dictenory2[a[0][1:-1]] = int(a[1])\n",
    "print(dictenory2)"
   ]
  },
  {
   "cell_type": "code",
   "execution_count": 9,
   "id": "f3574490",
   "metadata": {},
   "outputs": [
    {
     "name": "stdout",
     "output_type": "stream",
     "text": [
      "{'A':90, 'B': 0}\n",
      "{'C':50}\n",
      "{'A': 90, 'B': 0, 'C': 50}\n"
     ]
    }
   ],
   "source": [
    "#task 7\n",
    "dictenory1 = input().replace(\" \",\"\") #{'Harry':15, 'Draco':8, 'Nevil':19}\n",
    "dictenory2 = input().replace(\" \",\"\")\n",
    "dictenory1 = dictenory1[1:-1]\n",
    "dictenory2 = dictenory2[1:-1]\n",
    "#print(dictenory)\n",
    "list1 = dictenory1.split(\",\")\n",
    "list2 = dictenory2.split(\",\")\n",
    "#print(list1)\n",
    "dictenory3 = {}\n",
    "dictenory4 = {}\n",
    "\n",
    "for z in list1:\n",
    "    #print(z)\n",
    "    a = z.split(\":\")\n",
    "    dictenory3[a[0][1:-1]] = int(a[1])\n",
    "#print(dictenory3)\n",
    "\n",
    "for x in list2:\n",
    "    #print(z)\n",
    "    b = x.split(\":\")\n",
    "    dictenory4[b[0][1:-1]] = int(b[1])\n",
    "#print(dictenory4)#{'Ginie':18, 'Luna': 14}\n",
    "\n",
    "dictenory3.update(dictenory4)\n",
    "print(dictenory3)"
   ]
  },
  {
   "cell_type": "code",
   "execution_count": 56,
   "id": "ae42bdc4",
   "metadata": {},
   "outputs": [
    {
     "name": "stdout",
     "output_type": "stream",
     "text": [
      "{'Jon': 100, 'Dan':200, 'Rob':30, 'Ned':110}\n",
      "Average is 110.0.\n"
     ]
    }
   ],
   "source": [
    "#task 8\n",
    "dictenory1 = input().replace(\" \",\"\") \n",
    "dictenory1 = dictenory1[1:-1]\n",
    "list1 = dictenory1.split(\",\")\n",
    "dictenory2 = {}\n",
    "\n",
    "for z in list1:\n",
    "    a = z.split(\":\")\n",
    "    dictenory2[a[0][1:-1]] = int(a[1])\n",
    "\n",
    "sum1 = 0\n",
    "counter = 0\n",
    "for v in dictenory2.values():\n",
    "    sum1+= v\n",
    "    counter+=1\n",
    "print(F\"Average is {sum1/counter}.\")    "
   ]
  },
  {
   "cell_type": "code",
   "execution_count": 71,
   "id": "0c6ab822",
   "metadata": {},
   "outputs": [
    {
     "name": "stdout",
     "output_type": "stream",
     "text": [
      "exam_marks={'Cierra Vega': 175, 'Alden Cantrell': 200, 'Kierra Gentry': 165, 'Pierre Cox': 190}\n",
      "190\n",
      "{'AldenCantrell': 200}\n"
     ]
    }
   ],
   "source": [
    "#task 9\n",
    "dictenory1 = input(\"exam_marks=\").replace(\" \",\"\") \n",
    "dictenory1 = dictenory1[1:-1]\n",
    "list1 = dictenory1.split(\",\")\n",
    "dictenory2 = {}\n",
    "\n",
    "for z in list1:\n",
    "    a = z.split(\":\")\n",
    "    dictenory2[a[0][1:-1]] = int(a[1])\n",
    "\n",
    "input1 = int(input())\n",
    "\n",
    "dictenory3 = {}\n",
    "dictenory4 = {}\n",
    "for v in dictenory2.keys():\n",
    "    if dictenory2[v]>input1:\n",
    "        dictenory3[v] = dictenory2[v]\n",
    "        dictenory4.update(dictenory3)\n",
    "print(dictenory4)        "
   ]
  },
  {
   "cell_type": "code",
   "execution_count": 33,
   "id": "c8ff139a",
   "metadata": {
    "scrolled": false
   },
   "outputs": [
    {
     "name": "stdout",
     "output_type": "stream",
     "text": [
      "{'sci fi': 5, 'mystery': 3, 'horror': 14, 'young_adult': 2, 'adventure':9}\n",
      "The highest selling book genre is 'horror' and the number of books sold are 14 .\n"
     ]
    }
   ],
   "source": [
    "#task 10\n",
    "dictenory1 = input().replace(\" \",\"\") \n",
    "dictenory1 = dictenory1[1:-1]\n",
    "list1 = dictenory1.split(\",\")\n",
    "dictenory2 = {}\n",
    "\n",
    "for z in list1:\n",
    "    a = z.split(\":\")\n",
    "    dictenory2[a[0][1:-1]] = int(a[1])\n",
    "    \n",
    "max1 = list(dictenory2.values())[0]\n",
    "key = {}\n",
    "for k,v in dictenory2.items():\n",
    "    if (v>max1):\n",
    "        max1 = v\n",
    "        key = k\n",
    "#print(\"The highest selling book genre is\",\"'\"+key+\"'\" , \"and the number of books sold are\",max1,\".\") \n",
    "print(F\"The highest selling book genre is '{key}' and the number of books sold are {max1}.\")"
   ]
  },
  {
   "cell_type": "code",
   "execution_count": 52,
   "id": "de2ccdf7",
   "metadata": {},
   "outputs": [
    {
     "name": "stdout",
     "output_type": "stream",
     "text": [
      "Python programming is fun\n",
      "{'p': 2, 'y': 1, 't': 1, 'h': 1, 'o': 2, 'n': 3, 'r': 2, 'g': 2, 'a': 1, 'm': 2, 'i': 2, 's': 1, 'f': 1, 'u': 1}\n"
     ]
    }
   ],
   "source": [
    "#task 11\n",
    "string = input().lower().replace(\" \",\"\")\n",
    "dict1 = {}\n",
    "for i in string:\n",
    "    if i in dict1:\n",
    "        dict1[i] += 1\n",
    "    else:\n",
    "        dict1[i] = 1\n",
    "print(dict1)   "
   ]
  },
  {
   "cell_type": "code",
   "execution_count": 51,
   "id": "21cab976",
   "metadata": {},
   "outputs": [
    {
     "name": "stdout",
     "output_type": "stream",
     "text": [
      "9\n"
     ]
    }
   ],
   "source": [
    "#task12\n",
    "dict = {'A': [1, 2, 3], 'b': ['1', '2'], \"c\": [4, 5, 6, 7]}\n",
    "\n",
    "counter = 0\n",
    "for v in dict.values():\n",
    "    for i in v:\n",
    "        counter+=1\n",
    "print(counter)        "
   ]
  },
  {
   "cell_type": "code",
   "execution_count": 69,
   "id": "f5f09df4",
   "metadata": {},
   "outputs": [
    {
     "name": "stdout",
     "output_type": "stream",
     "text": [
      "(24, 25, 26)\n"
     ]
    }
   ],
   "source": [
    "#task 2\n",
    "tuple1 = (10, 20, 24, 25, 26, 35, 70)\n",
    "\n",
    "# tuple2 = ()\n",
    "# for i in tuple1:\n",
    "#     tuple2.append = tupple1([1:-2])\n",
    "\n",
    "print(tuple1[2:-2])    "
   ]
  },
  {
   "cell_type": "code",
   "execution_count": 4,
   "id": "5f31d466",
   "metadata": {},
   "outputs": [
    {
     "name": "stdout",
     "output_type": "stream",
     "text": [
      "Size of the tuple is: 4\n",
      "('Best Mystery & Thriller', 'The Silent Patient', 68, 821)\n",
      "('Best Horror', 'The Institute', 75, 717)\n",
      "('Best History & Biography', 'The five', 31, 783)\n",
      "('Best Fiction', 'The Testaments', 98, 291)\n"
     ]
    }
   ],
   "source": [
    "#task3\n",
    "book_info = book_info = ((\"Best Mystery & Thriller\",\"The Silent Patient\",68,821), (\"Best Horror\",\"The Institute\",75,717), (\"Best History & Biography\",\"The five\",31,783 ), (\"Best Fiction\",\"The Testaments\",98,291))\n",
    "size = len(book_info)\n",
    "print(\"Size of the tuple is:\", size)\n",
    "\n",
    "#for i in book_info:\n",
    "print(book_info[0])\n",
    "print(book_info[1])\n",
    "print(book_info[2])\n",
    "print(book_info[3])"
   ]
  },
  {
   "cell_type": "code",
   "execution_count": 17,
   "id": "077043fc",
   "metadata": {},
   "outputs": [
    {
     "name": "stdout",
     "output_type": "stream",
     "text": [
      "The Silent Patient won the 'Best Mystery & Thriller' category with 68821 votes\n",
      "The Institute won the 'Best Horror' category with 75717 votes\n",
      "The five won the 'Best History & Biography' category with 31783 votes\n",
      "The Testaments won the 'Best Fiction' category with 98291 votes\n"
     ]
    }
   ],
   "source": [
    "#task4\n",
    "book_info = ((\"Best Mystery & Thriller\",\"The Silent Patient\",68821), (\"Best Horror\",\"The Institute\",75717), (\"Best History & Biography\",\"The five\",31783 ), (\"Best Fiction\",\"The Testaments\",98291))\n",
    "\n",
    "for i in book_info:\n",
    "     print(i[1], \"won the\" ,\"'\"+i[0]+\"'\",\"category with\",i[2], \"votes\")"
   ]
  },
  {
   "cell_type": "code",
   "execution_count": 36,
   "id": "587d2f6b",
   "metadata": {},
   "outputs": [
    {
     "name": "stdout",
     "output_type": "stream",
     "text": [
      "Given tuple:(10, 8, 5, 2, 10, 15, 10, 8, 5, 8, 8, 2)\n",
      "8\n",
      "8 appears 4 times in the tuple\n"
     ]
    }
   ],
   "source": [
    "#task 5\n",
    "\n",
    "given_tuple = input(\"Given tuple:\").replace(\"(\",\"\").replace(\")\",\"\")\n",
    "given_tuple = given_tuple.split(\", \")\n",
    "#print(given_tuple)\n",
    "#tup1 = int(given_tuple1)\n",
    "for i in range(len(given_tuple)):\n",
    "    given_tuple[i]=int(given_tuple[i])\n",
    "input1 = int(input()) \n",
    "\n",
    "number = given_tuple.count(input1)\n",
    "\n",
    "print(input1,\"appears\",number,\"times in the tuple\")"
   ]
  },
  {
   "cell_type": "code",
   "execution_count": 50,
   "id": "b0a377e6",
   "metadata": {},
   "outputs": [
    {
     "name": "stdout",
     "output_type": "stream",
     "text": [
      "Given tuple:('a', 'b', 'c', 'd', 'e', 'f', 'g', 'h')\n",
      "(\"'h'\", \"'g'\", \"'f'\", \"'e'\", \"'d'\", \"'c'\", \"'b'\")\n"
     ]
    }
   ],
   "source": [
    "#task6\n",
    "given_tuple = input(\"Given tuple:\").replace(\"(\",\"\").replace(\")\",\"\")\n",
    "given_tuple = given_tuple.split(\", \")\n",
    "tup1 = given_tuple[-1:0:-1]\n",
    "tup1 = tuple(tup1)\n",
    "print(tup1)"
   ]
  },
  {
   "cell_type": "code",
   "execution_count": 52,
   "id": "2c5336cd",
   "metadata": {},
   "outputs": [
    {
     "name": "stdout",
     "output_type": "stream",
     "text": [
      "{'a': [1, 3, 2], 'b': [2, 1], 'c': [1]}\n"
     ]
    }
   ],
   "source": [
    "#task 13\n",
    "list = [(\"a\", 1), (\"b\", 2), (\"a\", 3), (\"b\", 1), (\"a\", 2), (\"c\", 1)]\n",
    "list1 = []\n",
    "list2 = []\n",
    "\n",
    "for i in list:\n",
    "    list1.append(i[0])\n",
    "    list2.append(i[1])\n",
    "\n",
    "dict1 = {}\n",
    "for x in list1:\n",
    "    if x not in dict1:\n",
    "        dict1[x] = []\n",
    "for z in range(len(list1)):\n",
    "    if list1[z] in  dict1:\n",
    "        dict1[list1[z]].append(list2[z])\n",
    "print(dict1)        "
   ]
  },
  {
   "cell_type": "code",
   "execution_count": null,
   "id": "484fade2",
   "metadata": {},
   "outputs": [],
   "source": [
    "#practice problem \n",
    "\n"
   ]
  }
 ],
 "metadata": {
  "kernelspec": {
   "display_name": "Python 3",
   "language": "python",
   "name": "python3"
  },
  "language_info": {
   "codemirror_mode": {
    "name": "ipython",
    "version": 3
   },
   "file_extension": ".py",
   "mimetype": "text/x-python",
   "name": "python",
   "nbconvert_exporter": "python",
   "pygments_lexer": "ipython3",
   "version": "3.8.8"
  }
 },
 "nbformat": 4,
 "nbformat_minor": 5
}
