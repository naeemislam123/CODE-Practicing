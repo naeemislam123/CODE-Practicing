{
 "cells": [
  {
   "cell_type": "code",
   "execution_count": 9,
   "id": "21b7ac7b",
   "metadata": {},
   "outputs": [
    {
     "name": "stdout",
     "output_type": "stream",
     "text": [
      "Enrer a number:7\n",
      "1111111\n",
      "2#####2\n",
      "3333333\n",
      "4#####4\n",
      "5555555\n",
      "6#####6\n",
      "7777777\n"
     ]
    }
   ],
   "source": [
    "n= int(input(\"Enrer a number:\"))\n",
    "if (n%2==0):\n",
    "    print(\"invalid input\")\n",
    "else:  \n",
    "    for line in range(1,n+1):\n",
    "        for y in range(1,n+1):\n",
    "            if (line%2==0 and y!=1 and y!=n):\n",
    "                print (\"#\" , end=\"\" )\n",
    "            else:\n",
    "                print(line, end= \"\")\n",
    "        print()        "
   ]
  },
  {
   "cell_type": "code",
   "execution_count": 15,
   "id": "14371a83",
   "metadata": {},
   "outputs": [
    {
     "name": "stdout",
     "output_type": "stream",
     "text": [
      "8\n",
      "########\n",
      "&&&##&&&\n",
      "&&&##&&&\n",
      "&&&##&&&\n",
      "&&&##&&&\n",
      "&&&##&&&\n",
      "&&&##&&&\n",
      "########\n"
     ]
    }
   ],
   "source": [
    "n = int(input())\n",
    "if(n<5):\n",
    "    print(\"Invalid Input\")\n",
    "else:\n",
    "    for i in range (1,n+1):\n",
    "        for j in range(1,n+1):\n",
    "            if(n%2==0):\n",
    "                if(i==1):\n",
    "                    print(\"#\",end=\"\")\n",
    "                elif(i==n):\n",
    "                    print(\"#\",end=\"\")\n",
    "                elif(j==(n//2)):\n",
    "                    print(\"#\",end=\"\")\n",
    "                elif(j==(n//2)+1):\n",
    "                    print(\"#\",end=\"\")\n",
    "                else:\n",
    "                    print(\"&\",end=\"\")\n",
    "            else:\n",
    "                if(i==1):\n",
    "                    print(\"#\",end=\"\")\n",
    "                elif(i==n):\n",
    "                    print(\"#\",end=\"\")\n",
    "                elif(j==(n//2)):\n",
    "                    print(\"#\",end=\"\")\n",
    "                elif(j==(n//2)+1):\n",
    "                    print(\"#\",end=\"\")\n",
    "                elif(j==(n//2)+2):\n",
    "                    print(\"#\",end=\"\")\n",
    "                else:\n",
    "                    print(\"&\",end=\"\")\n",
    "        print()"
   ]
  },
  {
   "cell_type": "code",
   "execution_count": null,
   "id": "89ff7f23",
   "metadata": {},
   "outputs": [],
   "source": []
  }
 ],
 "metadata": {
  "kernelspec": {
   "display_name": "Python 3",
   "language": "python",
   "name": "python3"
  },
  "language_info": {
   "codemirror_mode": {
    "name": "ipython",
    "version": 3
   },
   "file_extension": ".py",
   "mimetype": "text/x-python",
   "name": "python",
   "nbconvert_exporter": "python",
   "pygments_lexer": "ipython3",
   "version": "3.8.8"
  }
 },
 "nbformat": 4,
 "nbformat_minor": 5
}
