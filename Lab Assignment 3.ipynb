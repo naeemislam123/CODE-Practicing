{
 "cells": [
  {
   "cell_type": "code",
   "execution_count": 3,
   "id": "612632d2",
   "metadata": {},
   "outputs": [
    {
     "name": "stdout",
     "output_type": "stream",
     "text": [
      "Please enter a word:DREAM\n",
      "D\n",
      "DR\n",
      "DRE\n",
      "DREA\n",
      "DREAM\n"
     ]
    }
   ],
   "source": [
    "#task 1\n",
    "w = input(\"Please enter a word:\")\n",
    "\n",
    "for i in range(len(w)):\n",
    "    print(w[0:i+1])"
   ]
  },
  {
   "cell_type": "code",
   "execution_count": 12,
   "id": "261d8141",
   "metadata": {},
   "outputs": [
    {
     "name": "stdout",
     "output_type": "stream",
     "text": [
      "Please enter a word:strongest\n",
      "strongester\n"
     ]
    }
   ],
   "source": [
    "#task 2\n",
    "w = input(\"Please enter a word:\")\n",
    "\n",
    "if len(w)<4:\n",
    "    print(w)\n",
    "elif len(w)>3 and w.endswith(\"er\"):\n",
    "    print(w.replace(\"er\",\"est\"))    \n",
    "elif len(w)>3:\n",
    "    print(w+\"er\")\n",
    "else:\n",
    "    if w.endswith(\"est\"):\n",
    "        print(w)"
   ]
  },
  {
   "cell_type": "code",
   "execution_count": 7,
   "id": "043a4c29",
   "metadata": {},
   "outputs": [
    {
     "name": "stdout",
     "output_type": "stream",
     "text": [
      "Please enter a word:Programming\n",
      "P : 80\n",
      "r : 114\n",
      "o : 111\n",
      "g : 103\n",
      "r : 114\n",
      "a : 97\n",
      "m : 109\n",
      "m : 109\n",
      "i : 105\n",
      "n : 110\n",
      "g : 103\n"
     ]
    }
   ],
   "source": [
    "#task 3\n",
    "w = input(\"Please enter a word:\")\n",
    "\n",
    "for i in w:\n",
    "    print(i,\":\",ord(i))"
   ]
  },
  {
   "cell_type": "code",
   "execution_count": 8,
   "id": "621f45fa",
   "metadata": {},
   "outputs": [
    {
     "name": "stdout",
     "output_type": "stream",
     "text": [
      "Please enter a word:abcd\n",
      "bcde"
     ]
    }
   ],
   "source": [
    "#task 4\n",
    "w = input(\"Please enter a word:\")  \n",
    "\n",
    "for i in w:\n",
    "    \n",
    "    if i==\"z\":\n",
    "        print(\"a\",end=\"\")\n",
    "    else:\n",
    "        print(chr(ord(i)+1),end=\"\")"
   ]
  },
  {
   "cell_type": "code",
   "execution_count": 7,
   "id": "4ed46990",
   "metadata": {
    "scrolled": true
   },
   "outputs": [
    {
     "name": "stdout",
     "output_type": "stream",
     "text": [
      "Please enter a word:ABCD\n",
      "Please enter a word:abcdekgh\n",
      "AaBbCcDdekgh\n"
     ]
    }
   ],
   "source": [
    "#task 5\n",
    "w1 = input(\"Please enter a word:\") \n",
    "w2 = input(\"Please enter a word:\") \n",
    "output = \"\"\n",
    "if len(w1) > len(w2):\n",
    "    for i in range (len(w2)):\n",
    "        output = output + w1[i] + w2[i]\n",
    "    output = output + w1[len(w2):]\n",
    "else:\n",
    "    for i in range (len(w1)):\n",
    "        output = output + w1[i] + w2[i]\n",
    "    output = output + w2[len(w1):]\n",
    "print (output)\n"
   ]
  },
  {
   "cell_type": "code",
   "execution_count": 20,
   "id": "441e20f7",
   "metadata": {},
   "outputs": [
    {
     "name": "stdout",
     "output_type": "stream",
     "text": [
      "Please enter a word:AAAABBBBCCEEEAAABCE\n",
      "ABCEABCE"
     ]
    }
   ],
   "source": [
    "#task 6\n",
    "w = input(\"Please enter a word:\")\n",
    "currenr_latter = \"\"\n",
    "output_str = \"\"\n",
    "\n",
    "for i in w:\n",
    "    if (i != currenr_latter):\n",
    "        currenr_latter = i\n",
    "        output_str = output_str + i\n",
    "print(output_str, end=\"\")        "
   ]
  },
  {
   "cell_type": "code",
   "execution_count": 1,
   "id": "2a9dc66b",
   "metadata": {},
   "outputs": [
    {
     "name": "stdout",
     "output_type": "stream",
     "text": [
      "Please enter a number:xyzabc\n",
      "Please enter a number:2\n",
      "zyxabc"
     ]
    }
   ],
   "source": [
    "#task 7\n",
    "w = input(\"Please enter a number:\")\n",
    "i = int(input(\"Please enter a number:\"))\n",
    "z = i\n",
    "output_str = \"\"\n",
    "\n",
    "for x in range (i+1):\n",
    "    output_str = output_str + w[z]\n",
    "    z = z-1\n",
    "output_str = output_str + w[i+1:]\n",
    "print(output_str, end=\"\")\n",
    "    "
   ]
  },
  {
   "cell_type": "code",
   "execution_count": 26,
   "id": "c7b125af",
   "metadata": {},
   "outputs": [
    {
     "name": "stdout",
     "output_type": "stream",
     "text": [
      "Please enter a number:26534745276\n",
      "Please enter a number:3\n",
      "35624745276"
     ]
    }
   ],
   "source": [
    "#task 7\n",
    "w = input(\"Please enter a number:\")\n",
    "i = int(input(\"Please enter a number:\"))\n",
    "output_str = \"\"\n",
    "\n",
    "for x in range (i,-1,-1):\n",
    "    output_str = output_str + w[x]\n",
    "    \n",
    "output_str = output_str + w[i+1:]\n",
    "print(output_str, end=\"\")"
   ]
  },
  {
   "cell_type": "code",
   "execution_count": 39,
   "id": "745c1f03",
   "metadata": {},
   "outputs": [
    {
     "name": "stdout",
     "output_type": "stream",
     "text": [
      "tom@gmail,harry@yahoo,bob@gmail,mary@gmail\n",
      ",\n",
      "tom@gmail\n",
      "harry@yahoo\n",
      "bob@gmail\n",
      "mary@gmail"
     ]
    }
   ],
   "source": [
    "#task 8\n",
    "string_1 = input()\n",
    "separator = input()\n",
    "output = \"\"\n",
    "\n",
    "for i in (string_1):\n",
    "    if (i != separator):\n",
    "        output = output + i\n",
    "    else:\n",
    "        print(output)\n",
    "        output = \"\"\n",
    "print(output)      "
   ]
  },
  {
   "cell_type": "code",
   "execution_count": 41,
   "id": "95982d2d",
   "metadata": {},
   "outputs": [
    {
     "name": "stdout",
     "output_type": "stream",
     "text": [
      "new\n",
      "string\n",
      "gwsn\n"
     ]
    }
   ],
   "source": [
    "#task 9\n",
    "string_1 = input()\n",
    "string_2 = input()\n",
    "\n",
    "print(string_2[-1]+string_1[-1]+string_2[0]+string_1[0])"
   ]
  },
  {
   "cell_type": "code",
   "execution_count": 43,
   "id": "4350b691",
   "metadata": {},
   "outputs": [
    {
     "name": "stdout",
     "output_type": "stream",
     "text": [
      "abcd\n",
      "BD\n"
     ]
    }
   ],
   "source": [
    "#task 10\n",
    "w = input()\n",
    "output_str = \"\"\n",
    "\n",
    "for i in range (len(w)):\n",
    "    if (i%2!=0):\n",
    "        output_str = output_str + w[i]\n",
    "print(output_str.upper())"
   ]
  },
  {
   "cell_type": "code",
   "execution_count": 45,
   "id": "b5f164e4",
   "metadata": {},
   "outputs": [
    {
     "name": "stdout",
     "output_type": "stream",
     "text": [
      "CSE110\n",
      "3\n",
      "CSE110CSE110CSE110CSE110CSE110CSE110CSE110CSE110CSE110\n"
     ]
    }
   ],
   "source": [
    "#task 11\n",
    "string = input()\n",
    "number = int(input())\n",
    "\n",
    "if (number%2==0):\n",
    "    print(string*(number*2))\n",
    "else:\n",
    "    print(string*(number*3))"
   ]
  },
  {
   "cell_type": "code",
   "execution_count": 18,
   "id": "eb5757d4",
   "metadata": {},
   "outputs": [
    {
     "name": "stdout",
     "output_type": "stream",
     "text": [
      "taanjiro kaamado\n",
      "a\n",
      "tnjiro kmdo\n"
     ]
    }
   ],
   "source": [
    "#task 12\n",
    "string = input()\n",
    "latter = input()\n",
    "counter = 0\n",
    "output_str = \"\"\n",
    "\n",
    "if len(string)>3 and latter not in string:\n",
    "    print(string[1:len(string)-1])\n",
    "    \n",
    "else:\n",
    "    for i in string:\n",
    "        if (i != latter):\n",
    "            output_str = output_str + i\n",
    "    print(output_str)\n",
    "    "
   ]
  },
  {
   "cell_type": "code",
   "execution_count": null,
   "id": "b9c1e979",
   "metadata": {},
   "outputs": [],
   "source": [
    "#task 13\n",
    "string = input()\n",
    "output_str = \"\"\n",
    "\n",
    "for i in range(len(string)):\n",
    "    if len(string%2==0):\n",
    "        print(output_str.upper())\n",
    "    else:\n",
    "        print(output_str.lower())"
   ]
  },
  {
   "cell_type": "code",
   "execution_count": 19,
   "id": "ee0035ff",
   "metadata": {},
   "outputs": [
    {
     "name": "stdout",
     "output_type": "stream",
     "text": [
      "Please enter a word:stronger\n",
      "strongest\n"
     ]
    }
   ],
   "source": [
    "#task 2\n",
    "w = input(\"Please enter a word:\")\n",
    "\n",
    "if len(w)<4:\n",
    "    print(w)    \n",
    "elif len(w)>3:\n",
    "    \n",
    "    if len(w)>3 and w.endswith(\"er\"):\n",
    "         print(w.replace(\"er\",\"est\"))\n",
    "    elif w.endswith(\"est\"):\n",
    "        print(w)\n",
    "    else:\n",
    "        print(w+\"er\")"
   ]
  },
  {
   "cell_type": "code",
   "execution_count": 21,
   "id": "c8ebbc70",
   "metadata": {},
   "outputs": [
    {
     "name": "stdout",
     "output_type": "stream",
     "text": [
      "Python programming is very easy\n",
      "PyThOn PrOgRaMmInG iS vErY eAsY"
     ]
    }
   ],
   "source": [
    "#task13\n",
    "word = input()\n",
    "counter= True \n",
    "for i in word:\n",
    "    if i == \" \":\n",
    "        print(\" \", end=\"\")\n",
    "    elif counter== True:\n",
    "        print(i.upper(), end=\"\")\n",
    "        counter=False\n",
    "        \n",
    "    elif counter==False:\n",
    "        print(i.lower(), end=\"\")\n",
    "        counter=True"
   ]
  },
  {
   "cell_type": "code",
   "execution_count": 9,
   "id": "82f01008",
   "metadata": {},
   "outputs": [
    {
     "name": "stdout",
     "output_type": "stream",
     "text": [
      "dustyyy\n",
      "study\n",
      "They are not Anagram\n"
     ]
    }
   ],
   "source": [
    "#task14\n",
    "word1 = input()\n",
    "word2 = input()\n",
    "flag= True\n",
    "for i in word1:\n",
    "    counter=0\n",
    "    if i not in word2:\n",
    "        flag = False\n",
    "        break   \n",
    "    elif i in word2:\n",
    "        for j in word2:\n",
    "            if i==j:\n",
    "                counter+=1\n",
    "            for k in word1:\n",
    "                if k == j:\n",
    "                    counter+=1\n",
    "        if counter>1:\n",
    "            flag = False\n",
    "            break\n",
    "        else:\n",
    "            flag = True\n",
    "if flag:\n",
    "    print(\"They are Anagram\")\n",
    "else:\n",
    "    print(\"They are not Anagram\")\n",
    "        "
   ]
  },
  {
   "cell_type": "code",
   "execution_count": 25,
   "id": "aa4b7bed",
   "metadata": {},
   "outputs": [
    {
     "name": "stdout",
     "output_type": "stream",
     "text": [
      "dusty\n",
      "study\n",
      "Anagram\n"
     ]
    }
   ],
   "source": [
    "#task14\n",
    "word1 = input()\n",
    "word2 = input()\n",
    "counter = True\n",
    "if len(word1)!=len(word2):\n",
    "    print(\"They are not anagram\")\n",
    "else:    \n",
    "    for i in word1:\n",
    "        flag = False\n",
    "        for j in word2:\n",
    "            if i == j:\n",
    "                flag = True\n",
    "        if flag == False:\n",
    "            counter = False\n",
    "            break\n",
    "    for i in word2:\n",
    "        flag = False\n",
    "        for j in word1:\n",
    "            if i == j:\n",
    "                flag = True\n",
    "        if flag == False:\n",
    "            counter = False\n",
    "            break        \n",
    "    if counter==True:\n",
    "        print(\"Ther are anagram\")\n",
    "    else:\n",
    "        print(\"They are not anagram\")\n",
    "            "
   ]
  },
  {
   "cell_type": "code",
   "execution_count": 39,
   "id": "de1e60b2",
   "metadata": {},
   "outputs": [
    {
     "name": "stdout",
     "output_type": "stream",
     "text": [
      "ABCD\n",
      "NONE\n"
     ]
    }
   ],
   "source": [
    "#task15\n",
    "word = input()\n",
    "counter = 0\n",
    "max1 = 0\n",
    "counter1 = 0\n",
    "for i in range(1,len(word)):\n",
    "    if word[i]==word[i-1]:\n",
    "        counter+=1\n",
    "    if word[i]!=word[i-1] or i==len(word)-1:\n",
    "        if max1==0 :\n",
    "            max1=counter\n",
    "            counter=0\n",
    "            if  i==len(word)-1:\n",
    "                counter1=i+1\n",
    "            else:\n",
    "                counter1 = i\n",
    "        elif counter>max1:\n",
    "            max1=counter\n",
    "            counter=0\n",
    "            if  i==len(word)-1:\n",
    "                counter1=i+1\n",
    "            else:\n",
    "                counter1 = i\n",
    "        else:\n",
    "            counter=0\n",
    "if max1==0:\n",
    "    print(\"NONE\")\n",
    "else:    \n",
    "    print(word[counter1 - max1-1:counter1])           "
   ]
  },
  {
   "cell_type": "code",
   "execution_count": null,
   "id": "10f02872",
   "metadata": {},
   "outputs": [],
   "source": []
  }
 ],
 "metadata": {
  "kernelspec": {
   "display_name": "Python 3",
   "language": "python",
   "name": "python3"
  },
  "language_info": {
   "codemirror_mode": {
    "name": "ipython",
    "version": 3
   },
   "file_extension": ".py",
   "mimetype": "text/x-python",
   "name": "python",
   "nbconvert_exporter": "python",
   "pygments_lexer": "ipython3",
   "version": "3.8.8"
  }
 },
 "nbformat": 4,
 "nbformat_minor": 5
}
