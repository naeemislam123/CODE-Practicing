{
 "cells": [
  {
   "cell_type": "code",
   "execution_count": 24,
   "id": "b5f5e499",
   "metadata": {},
   "outputs": [
    {
     "name": "stdout",
     "output_type": "stream",
     "text": [
      "ENter the string abcd002bef\n",
      "['a', 'b', 'c', 'd', '0', '0', '2', 'b', 'e', 'f']\n",
      "Correct, you may enter\n"
     ]
    }
   ],
   "source": [
    "givenstring=input(\"ENter the string \")\n",
    "list1=[]\n",
    "sum=0\n",
    "count=0\n",
    "for index in range(len(givenstring)):\n",
    "    currentvalue=givenstring[index]\n",
    "    list1.append(currentvalue)\n",
    "    if \"0\"<=currentvalue<=\"9\":\n",
    "        sum+=int(ord(currentvalue))\n",
    "        count+=1\n",
    "        \n",
    "print(list1)        \n",
    "if sum%2==0 and count>=2:\n",
    "    print(\"Correct, you may enter\")\n",
    "elif count>0:\n",
    "    print(\"Incorrect, you may leave\")\n",
    "else:\n",
    "    print(\"Leave\")"
   ]
  },
  {
   "cell_type": "code",
   "execution_count": null,
   "id": "53b86312",
   "metadata": {},
   "outputs": [],
   "source": [
    "M = int(input(\"Emter the number of chocolates:\"))\n",
    "#N = int(input(\"Emter the number of chocolates packets to get chocolates:\"))\n",
    "#P = int(input(\"New chocolates:\"))\n",
    "chocolate = M\n",
    "while M>0:\n",
    "    packet = M//4\n",
    "    print(\"P\", packet)\n",
    "    M = packet\n",
    "    print(\"N\", M)\n",
    "    \n",
    "    \n"
   ]
  },
  {
   "cell_type": "code",
   "execution_count": 27,
   "id": "99368752",
   "metadata": {},
   "outputs": [
    {
     "name": "stdout",
     "output_type": "stream",
     "text": [
      "Emter the number of chocolates:100\n",
      "Emter the number of chocolates packets to get chocolates:10\n",
      "New chocolates:3\n",
      "139\n"
     ]
    }
   ],
   "source": [
    "M = int(input(\"Emter the number of chocolates:\"))\n",
    "N = int(input(\"Emter the number of chocolates packets to get chocolates:\"))\n",
    "P = int(input(\"New chocolates from packets:\"))\n",
    "current = M\n",
    "current += (M//N)*P \n",
    "M = (M//N)*P \n",
    "while M>=N:\n",
    "    current += (M//N)*P\n",
    "    M = (M//N)*P + M%N \n",
    "    \n",
    "print(current)    "
   ]
  },
  {
   "cell_type": "code",
   "execution_count": 28,
   "id": "370e8a48",
   "metadata": {},
   "outputs": [
    {
     "name": "stdout",
     "output_type": "stream",
     "text": [
      "139\n"
     ]
    }
   ],
   "source": [
    "m = 100\n",
    "n = 10\n",
    "p = 3\n",
    "current = m\n",
    "current += (m//n)*p #100 + 25 = 125\n",
    "m = (m//n)*p #25\n",
    "while m>=n:\n",
    "    current += (m//n)*p\n",
    "    m = (m//n)*p + m%n #1+2=3\n",
    "    \n",
    "print(current) "
   ]
  },
  {
   "cell_type": "code",
   "execution_count": 32,
   "id": "2163ec27",
   "metadata": {},
   "outputs": [
    {
     "name": "stdout",
     "output_type": "stream",
     "text": [
      "mid\n",
      "mid\n"
     ]
    }
   ],
   "source": [
    "word = input()\n",
    "for i in word:\n",
    "    if len(word)<4:\n",
    "        print(word)\n",
    "        "
   ]
  },
  {
   "cell_type": "code",
   "execution_count": null,
   "id": "f9c52300",
   "metadata": {},
   "outputs": [],
   "source": [
    "string = input()\n",
    "list1=[]\n",
    "for i in string:\n",
    "    list1.append(i)\n",
    "if len(list1)%2!=0:\n",
    "    for j in list1:\n",
    "        if list1.index(j)==len(list1)//2 or list1.index(j)"
   ]
  },
  {
   "cell_type": "code",
   "execution_count": null,
   "id": "f49fc7f7",
   "metadata": {},
   "outputs": [],
   "source": [
    "string= \"AABAABBAA\"\n",
    "temp= \"AB\"\n",
    "while len(temp)<len(string):\n",
    "    if temp in string:\n",
    "        result[temp] = string.count(temp)\n",
    "    temp = \"A\"+temp\"B\"\n",
    "temp= \"AB\"    \n",
    "while len(temp)<len(string):\n",
    "    if temp in string:\n",
    "        result[temp] = string.count(temp)\n",
    "    temp = \"B\"+temp\"A\"    "
   ]
  },
  {
   "cell_type": "code",
   "execution_count": 39,
   "id": "b6aac9cb",
   "metadata": {},
   "outputs": [
    {
     "name": "stdout",
     "output_type": "stream",
     "text": [
      "enter the string :abcdefghijk\n",
      "['a', 'b', 'c', 'd', 'e', 'f', 'g', 'h', 'i', 'j', 'k']\n",
      "a b c d 101 102 103 h i j k "
     ]
    }
   ],
   "source": [
    "string=input('enter the string :')\n",
    "f=[]\n",
    "for j in string :\n",
    "    f.append(j)\n",
    "print(f)\n",
    "if (len(f)%2) !=0 :\n",
    "    for x in f :\n",
    "        if f.index(x)==(len(f)//2)-1 or f.index(x)==len(f)//2 or f.index(x)==(len(f)//2)+1 :\n",
    "            f.insert(f.index(x),ord(x))\n",
    "            f.remove(x)\n",
    "else :\n",
    "    for x in f :\n",
    "        if f.index(x)==(len(f)/2)-1 or f.index(x)==(len(f)/2) :\n",
    "            f.insert(f.index(x),ord(x))\n",
    "            f.remove(x)\n",
    "if len(string)<4:\n",
    "    print(string)\n",
    "else :\n",
    "    for i in f :\n",
    "        print(i,end=' ')"
   ]
  },
  {
   "cell_type": "code",
   "execution_count": null,
   "id": "23cf691e",
   "metadata": {},
   "outputs": [],
   "source": []
  }
 ],
 "metadata": {
  "kernelspec": {
   "display_name": "Python 3",
   "language": "python",
   "name": "python3"
  },
  "language_info": {
   "codemirror_mode": {
    "name": "ipython",
    "version": 3
   },
   "file_extension": ".py",
   "mimetype": "text/x-python",
   "name": "python",
   "nbconvert_exporter": "python",
   "pygments_lexer": "ipython3",
   "version": "3.8.8"
  }
 },
 "nbformat": 4,
 "nbformat_minor": 5
}
