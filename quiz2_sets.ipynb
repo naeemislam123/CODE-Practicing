{
  "nbformat": 4,
  "nbformat_minor": 0,
  "metadata": {
    "colab": {
      "name": "quiz2_sets.ipynb",
      "provenance": [],
      "collapsed_sections": []
    },
    "kernelspec": {
      "name": "python3",
      "display_name": "Python 3"
    },
    "language_info": {
      "name": "python"
    }
  },
  "cells": [
    {
      "cell_type": "markdown",
      "metadata": {
        "id": "4z0E3mpD9e4Q"
      },
      "source": [
        "Write a python program that takes input from the user and creates a 8 length list of strings [User will always give 8 names]. Then access the middle two elements of the list and after that replace characters of the first element which are common to the second element with the ASCII value of the matching character. After replacing the characters you need to print it in a particular format given in the sample output. Hint: [ You can use str() function for conversion to string ]  Sample Input 1: Ross Chandler Monica Phoebe Joey Rachael Richard Gunther  Sample Output 1: ['Ross', 'Chandler', 'Monica', 'Phoebe', 'Joey', 'Rachael', 'Richard', 'Gunther'] Phoebe is changed to Ph111101b101  Explanation 1: From the input list the middle two elements are Phoebe and Joey. The common characters of Phoebe and Joey are ‘o’ and ‘e’. The ASCII values of ‘o’ is 111 and ‘e’ is 101  so these characters ‘o’ and ‘e’ in Phoebe are replaced by its ASCII values.  ===============================================\n"
      ]
    },
    {
      "cell_type": "code",
      "metadata": {
        "colab": {
          "base_uri": "https://localhost:8080/"
        },
        "id": "qpikI7509qur",
        "outputId": "66c463db-3934-4a29-ed9f-2d3ff3b58f4e"
      },
      "source": [
        "name=input().split(' ')\n",
        "print(name)\n",
        "new_list=name[3:-3]\n",
        "print(new_list)\n",
        "output=''\n",
        "common=[]\n",
        "for i in new_list[0]:\n",
        "    for j in new_list[1]:\n",
        "        if i==j and i not in common:\n",
        "            common.append(i)   #common=[o,e]\n",
        "for i in new_list[0]:\n",
        "    if i in common:\n",
        "        output+=str(ord(i))  #ouput=ph111101101b\n",
        "        output+=i                 \n",
        "        \n",
        "print(output)            \n"
      ],
      "execution_count": null,
      "outputs": [
        {
          "output_type": "stream",
          "name": "stdout",
          "text": [
            "Ross Chandler Monica Phoebe Joey Rachael Richard Gunther\n",
            "['Ross', 'Chandler', 'Monica', 'Phoebe', 'Joey', 'Rachael', 'Richard', 'Gunther']\n",
            "['Phoebe', 'Joey']\n",
            "Ph111101b101\n"
          ]
        }
      ]
    },
    {
      "cell_type": "code",
      "metadata": {
        "colab": {
          "base_uri": "https://localhost:8080/"
        },
        "id": "f0j0fJJ4URgZ",
        "outputId": "75bdc841-8415-4856-eaa4-a7f095c39fdc"
      },
      "source": [
        "string=input()\n",
        "number=int(input())\n",
        "vowel=['a','e','i','o','u']\n",
        "output=''\n",
        "for i in range(len(string)):  \n",
        "    if i%number==0:\n",
        "        if string[i] in vowel:\n",
        "            output+=\"Yes\"\n",
        "        else:\n",
        "            output+='No'\n",
        "    else:\n",
        "        output+=string[i]\n",
        "print(output)                    "
      ],
      "execution_count": 1,
      "outputs": [
        {
          "output_type": "stream",
          "name": "stdout",
          "text": [
            "python is love\n",
            "3\n",
            "NoytNoonNoisNoloNoe\n"
          ]
        }
      ]
    },
    {
      "cell_type": "code",
      "metadata": {
        "colab": {
          "base_uri": "https://localhost:8080/"
        },
        "id": "yhI-Hsb7WFew",
        "outputId": "8eb1de64-93c4-4ab3-e1af-7db9ffe75673"
      },
      "source": [
        "string=input()\n",
        "output=''\n",
        "vowels=['a','e','i','o','u']\n",
        "modified_output=''\n",
        "for i in range(len(string)):\n",
        "    if i%2!=0 and string[i] in vowels:\n",
        "        output+=''\n",
        "    else:\n",
        "        output+=string[i]\n",
        "for i in range(len(output)):\n",
        "    if ord(output[i])>=65 and ord(output[i])<=90:  #A=65,Z=90,a=97,z=122\n",
        "        modified_output+=chr(ord(output[i])+32)\n",
        "    else:\n",
        "        modified_output+=output[i]    \n",
        "print(modified_output)             "
      ],
      "execution_count": 4,
      "outputs": [
        {
          "output_type": "stream",
          "name": "stdout",
          "text": [
            "Legolas\n",
            "lgls\n"
          ]
        }
      ]
    },
    {
      "cell_type": "code",
      "metadata": {
        "colab": {
          "base_uri": "https://localhost:8080/"
        },
        "id": "1LkDMmd_YlLy",
        "outputId": "168f82c1-9991-47cd-9426-cf787d5c67c6"
      },
      "source": [
        "password=input()\n",
        "flag=False\n",
        "for i in password:\n",
        "    if i.isdigit():\n",
        "        flag=True\n",
        "        break\n",
        "if flag==False:\n",
        "    print(\"Leave\")\n",
        "else:\n",
        "    my_list=[]\n",
        "    for i in password:\n",
        "        my_list.append(i)\n",
        "    print(my_list)\n",
        "    sum=0\n",
        "    for i in my_list:\n",
        "        sum+=ord(i)   \n",
        "    if sum%2==0:\n",
        "        print(\"Correct,you may enter\")\n",
        "    else:\n",
        "        print(\"Incorrect,you may leave\")        \n"
      ],
      "execution_count": 10,
      "outputs": [
        {
          "output_type": "stream",
          "name": "stdout",
          "text": [
            "sefe45\n",
            "['s', 'e', 'f', 'e', '4', '5']\n",
            "Correct,you may enter\n"
          ]
        }
      ]
    },
    {
      "cell_type": "markdown",
      "metadata": {
        "id": "JaMa3VVwai_V"
      },
      "source": [
        "Write the python code that takes a String as an input from the user. Then \n",
        "checks whether every 4th character of the string is a number or not.\n",
        "If every 4th character of the input string is a number, then print “Yay”.\n",
        "If every 4th character of the input string is NOT a number, then print \n",
        "“sad”.\n",
        "If the length of the input string is less than 4, print “Invalid input”.\n",
        "\n",
        "================================\n",
        "Sample Input1:\n",
        "abc4efg7ijk8gh\n",
        "\n",
        "Sample Output1:\n",
        "Yay\n",
        "\n",
        "Explanation 01:\n",
        " From the input string, every 4th character is ‘4’, ‘7’ and ‘8’ which are \n",
        "numbers. So, in the output “Yay” is printed.\n",
        "\n",
        "================================\n",
        "Sample Input 2:\n",
        "abc4efgpijk8gh\n",
        "\n",
        "Sample Output 2:\n",
        "sad\n",
        "\n",
        "Explanation 02:\n",
        " From the input string, every 4th character is ‘4’, ‘p’ and ‘8’. Among the \n",
        "4th indexed characters, ‘p’ is not a number. So, in the output “sad” is \n",
        "printed.\n",
        "\n",
        "================================\n",
        "Sample Input3:\n",
        "abc\n",
        "Sample Output3\n",
        "Invalid input\n",
        "\n",
        "Explanation 03:\n",
        "The input string’s length is less than 3. That's why “Invalid input” is \n",
        "printed."
      ]
    },
    {
      "cell_type": "code",
      "metadata": {
        "colab": {
          "base_uri": "https://localhost:8080/"
        },
        "id": "NmZcGViLalDS",
        "outputId": "94318337-dc57-4cd7-be43-9774b7683cde"
      },
      "source": [
        "string=input()\n",
        "flag=False\n",
        "if len(string)<4:\n",
        "    print(\"Invalid input\")\n",
        "else:\n",
        "    for i in range(3,len(string),4): \n",
        "        if string[i].isdigit():\n",
        "            flag=True\n",
        "        else:\n",
        "            flag=False\n",
        "            break\n",
        "if flag==True:\n",
        "    print(\"Yay\")\n",
        "else:\n",
        "    print(\"sad\")     \n",
        "\n"
      ],
      "execution_count": 21,
      "outputs": [
        {
          "output_type": "stream",
          "name": "stdout",
          "text": [
            "abc4efg7ijk8gh\n",
            "Yay\n"
          ]
        }
      ]
    },
    {
      "cell_type": "markdown",
      "metadata": {
        "id": "UU_iR8pTe280"
      },
      "source": [
        "Write a Python program that takes a number from the user as input, where \n",
        "the number contains exactly one 0. The program should then add up all the \n",
        "digits before the 0 and subtract all the digits after the 0, and return the \n",
        "result.\n",
        "\n",
        "===============================================================\n",
        "Sample Input 1:\n",
        "34656045\n",
        "\n",
        "Sample Output 2:\n",
        "15\n",
        "\n",
        "Explanation 1:\n",
        "Before the 0, we have 3 + 4 + 6 + 5 + 6 = 24. After the 0, we have 24 - 4 - \n",
        "5 = 15\n",
        "\n",
        "===============================================================\n",
        "Sample Input 2:\n",
        "298076585\n",
        "\n",
        "Sample Output 2:\n",
        "-12\n",
        "\n",
        "Explanation 2:\n",
        "Before the 0, we have 2 + 9 + 8 = 19. After the 0, we have 19 - 7 - 6 - 5 - \n",
        "8 - 5 = -12\n",
        "\n",
        "===============================================================\n",
        "Sample Input 3:\n",
        "029858\n",
        "\n",
        "Sample Output 3:\n",
        "-32\n",
        "\n",
        "Explanation 3:\n",
        "Before the 0, we don’t have any numbers. So 0.  After the 0, we have 0 - 2 \n",
        "- 9 - 8 - 5 - 8 = -32\n",
        "===============================================================\n",
        "Sample Input 4:\n",
        "24680\n",
        "\n",
        "Sample Output 4:\n",
        "20\n",
        "\n",
        "Explanation 4:\n",
        "Before the 0, we have 2 + 4 + 6 + 8 = 20. After the 0, we don’t have any \n",
        "numbers."
      ]
    },
    {
      "cell_type": "code",
      "metadata": {
        "colab": {
          "base_uri": "https://localhost:8080/"
        },
        "id": "wcakY749fnxw",
        "outputId": "ba7a1745-f815-4eb1-82f2-881ca0fcbb5d"
      },
      "source": [
        "number=input()\n",
        "sum=0\n",
        "flag=False\n",
        "for i in number:\n",
        "    if i =='0':\n",
        "        flag=True\n",
        "    elif flag==False:\n",
        "        sum+=int(i)\n",
        "    elif flag==True:\n",
        "        sum-=int(i)\n",
        "print(sum)        \n"
      ],
      "execution_count": 23,
      "outputs": [
        {
          "output_type": "stream",
          "name": "stdout",
          "text": [
            "298076585\n",
            "-12\n"
          ]
        }
      ]
    },
    {
      "cell_type": "code",
      "metadata": {
        "colab": {
          "base_uri": "https://localhost:8080/"
        },
        "id": "krhsszJUhcFu",
        "outputId": "1329dc5d-8030-4d91-a47b-970e94b6a577"
      },
      "source": [
        "s=input()\n",
        "vowel=['a','e','i','o','u']\n",
        "symbol=[\"*\",\"@\",'$','%','#']\n",
        "output=''\n",
        "for i in range(len(s)):\n",
        "    if s[i] in vowel:\n",
        "        index=s.index(s[i])\n",
        "        output+=symbol[index]\n",
        "    else:\n",
        "        output+=s[i]\n",
        "print(output)         "
      ],
      "execution_count": 28,
      "outputs": [
        {
          "output_type": "stream",
          "name": "stdout",
          "text": [
            "python\n",
            "pyth#n\n"
          ]
        }
      ]
    },
    {
      "cell_type": "markdown",
      "metadata": {
        "id": "P6ouNVO-i7Tx"
      },
      "source": [
        "Write a Python program that takes a number from the user and generates the \n",
        "following pattern. If the user given number is NOT greater than 4, then   \n",
        "print “Invalid input”"
      ]
    },
    {
      "cell_type": "code",
      "metadata": {
        "colab": {
          "base_uri": "https://localhost:8080/"
        },
        "id": "YkXGMmyDi8ri",
        "outputId": "7d5e525d-7ac6-4578-bbcc-6d76c55e07c1"
      },
      "source": [
        "number=int(input())\n",
        "if number<=4:\n",
        "    print(\"Invalid input\")\n",
        "else:\n",
        "    for i in range(number):\n",
        "        print(\"#\",end='')\n",
        "    print()    \n",
        "    for j in range(number-2):\n",
        "        if number%2!=0:   #7//3=2\n",
        "            n1=number//3\n",
        "            n2=number-(n1*2)\n",
        "            for k in range(n1):\n",
        "                print(\"&\",end='')   \n",
        "            for k in range(n2):        \n",
        "                print(\"#\",end=\"\")\n",
        "            for k in range(n1):\n",
        "                print(\"&\",end='')\n",
        "            print()\n",
        "        else:\n",
        "            n1=number//3    \n",
        "            n2=(number-n1)//2\n",
        "            for k in range(n2):\n",
        "                print(\"&\",end='')\n",
        "            for k in range(n1):\n",
        "                print(\"#\",end=\"\")\n",
        "            for k in range(n2):\n",
        "                print(\"&\",end='')\n",
        "            print()\n",
        "    for i in range(number):\n",
        "        print(\"#\",end='')                      "
      ],
      "execution_count": 46,
      "outputs": [
        {
          "output_type": "stream",
          "name": "stdout",
          "text": [
            "8\n",
            "########\n",
            "&&&##&&&\n",
            "&&&##&&&\n",
            "&&&##&&&\n",
            "&&&##&&&\n",
            "&&&##&&&\n",
            "&&&##&&&\n",
            "########"
          ]
        }
      ]
    }
  ]
}