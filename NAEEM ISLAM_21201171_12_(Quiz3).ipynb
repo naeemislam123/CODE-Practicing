{
 "cells": [
  {
   "cell_type": "code",
   "execution_count": 1,
   "id": "b57c8177",
   "metadata": {},
   "outputs": [
    {
     "name": "stdout",
     "output_type": "stream",
     "text": [
      "Enter a number from fruit_list:20\n",
      "{'coconut': 6780}\n"
     ]
    }
   ],
   "source": [
    "fruit_list={'orange': (8,7,12) , 'coconut': (10,20,30), 'dragonfruit': (6,12,14)}\n",
    "input1 = int(input(\"Enter a number from fruit_list:\"))\n",
    "sum1 = 0\n",
    "dict1 = {}\n",
    "vowel = \"aeiouAEIOU\"\n",
    "for i in fruit_list.keys():\n",
    "    if input1 in fruit_list[i]:\n",
    "        for j in i:\n",
    "            if j in vowel:\n",
    "                sum1+=ord(j)\n",
    "        dict1[i]= sum1*input1\n",
    "        sum1 = 0\n",
    "print(dict1)"
   ]
  },
  {
   "cell_type": "code",
   "execution_count": null,
   "id": "d0e8531c",
   "metadata": {},
   "outputs": [],
   "source": []
  }
 ],
 "metadata": {
  "kernelspec": {
   "display_name": "Python 3",
   "language": "python",
   "name": "python3"
  },
  "language_info": {
   "codemirror_mode": {
    "name": "ipython",
    "version": 3
   },
   "file_extension": ".py",
   "mimetype": "text/x-python",
   "name": "python",
   "nbconvert_exporter": "python",
   "pygments_lexer": "ipython3",
   "version": "3.8.8"
  }
 },
 "nbformat": 4,
 "nbformat_minor": 5
}
