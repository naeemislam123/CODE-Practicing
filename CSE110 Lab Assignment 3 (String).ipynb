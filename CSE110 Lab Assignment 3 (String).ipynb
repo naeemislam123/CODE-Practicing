{
 "cells": [
  {
   "cell_type": "markdown",
   "metadata": {
    "id": "xDNsncrtU1yM"
   },
   "source": [
    "# CSE110 Lab Assignment 3\n",
    "\n",
    "This Assignment is to help you develop your concept of Strings in Python."
   ]
  },
  {
   "cell_type": "markdown",
   "metadata": {
    "id": "gh4GUDaIU1yO"
   },
   "source": [
    "\n",
    "\n",
    "\n",
    "\n",
    "\n",
    "\n",
    "##Write your name, student ID and CSE110 theory section number below:\n",
    "\n",
    "\n",
    "\n",
    "\n",
    "\n"
   ]
  },
  {
   "cell_type": "code",
   "execution_count": null,
   "metadata": {
    "id": "OAYfzLIqgqyE"
   },
   "outputs": [],
   "source": [
    "#STUDENT NAME: NAEEM ISLAM\n",
    "#STUDENT ID: 21201171\n",
    "#CSE110 THEORY SECTION: 12"
   ]
  },
  {
   "cell_type": "markdown",
   "metadata": {
    "id": "KD4EKJf6U1yQ"
   },
   "source": [
    "## Write the code in Python to do the following tasks:\n",
    "\n",
    "**<font color='red'>[MUST MAINTAIN VARIABLE NAMING CONVENTIONS FOR ALL THE TASKS]</font>**\n",
    "\n",
    "\n",
    "### Task 1 \n",
    "\n",
    "Write a Python program that will ask the user to input a string (containing exactly one word). Then your program should print subsequent substrings of the given string as shown in the examples below.\n",
    "\n",
    "=====================================================================\n",
    "\n",
    "**Example 1:**\\\n",
    "Input:\\\n",
    "BANGLA\n",
    "\n",
    "Output:\\\n",
    "B\\\n",
    "BA\\\n",
    "BAN\\\n",
    "BANG\\\n",
    "BANGL\\\n",
    "BANGLA\n",
    "\n",
    "=====================================================================\n",
    "\n",
    "**Example 2:**\\\n",
    "Input:\\\n",
    "DREAM\n",
    "\n",
    "Output:\\\n",
    "D\\\n",
    "DR\\\n",
    "DRE\\\n",
    "DREA\\\n",
    "DREAM\n",
    "\n",
    "=====================================================================\n",
    "\n",
    "**Hints(1):** You may use \"for loop\" for this task.\n",
    "\n",
    "**Hints(2):** You may use print() function for printing newlines.\n",
    "\n",
    "For example:\\\n",
    "print(1)\\\n",
    "print(2)\n",
    "\n",
    "Output:\\\n",
    "1\\\n",
    "2\n",
    "\n",
    "=====================================================================\n",
    "\n",
    "We can use print(end = \"\") to skip printing the additional newline.\n",
    "\n",
    "For example:\\\n",
    "print(1, end =\"\")\\\n",
    "print(2)\n",
    "\n",
    "Output:(prints the following output right next to the previous one)\\\n",
    "12\n",
    "\n",
    "=====================================================================\n",
    "\n",
    "\n",
    "\n",
    "\n"
   ]
  },
  {
   "cell_type": "code",
   "execution_count": null,
   "metadata": {
    "id": "vJhpmj2XU1yR"
   },
   "outputs": [],
   "source": [
    "#task 1\n",
    "w = input(\"Please enter a word:\")\n",
    "\n",
    "for i in range(len(w)):\n",
    "    print(w[0:i+1])\n"
   ]
  },
  {
   "cell_type": "markdown",
   "metadata": {
    "id": "pbdeIVcyU1yi"
   },
   "source": [
    "### Task 2\n",
    "\n",
    "Write a Python program that will ask the user to enter a  word as an input. \n",
    "\n",
    "* If the length of the input string is less than 4, then your program should print the same string as an output. \n",
    "* If the input string’s length is greater than 3, then your program should add \"er\" at the end of the input string. \n",
    "* If the input string already ends with \"er\", then add \"est\" instead. \n",
    "* If the input string already ends with \"est\", then your program should print the same input string as an output.\n",
    "\n",
    "=====================================================================\n",
    "\n",
    "**Example 1:**\\\n",
    "Input: strong\\\n",
    "Output: stronger\n",
    "\n",
    "=====================================================================\n",
    "\n",
    "**Example 2:**\\\n",
    "Input: stronger\\\n",
    "Output: strongest\n",
    "\n",
    "=====================================================================\n",
    "\n",
    "**Example 3:**\\\n",
    "Input: strongest\\\n",
    "Output: strongest\n",
    "\n",
    "=====================================================================\n",
    "\n",
    "**Example 4:**\\\n",
    "Input: abc\\\n",
    "Output: abc\n",
    "\n",
    "====================================================================="
   ]
  },
  {
   "cell_type": "code",
   "execution_count": 2,
   "metadata": {},
   "outputs": [
    {
     "name": "stdout",
     "output_type": "stream",
     "text": [
      "Please enter a word:strongest\n",
      "strongest\n"
     ]
    }
   ],
   "source": [
    "#task 2\n",
    "w = input(\"Please enter a word:\")\n",
    "\n",
    "if len(w)<4:\n",
    "    print(w)    \n",
    "elif len(w)>3:\n",
    "    \n",
    "    if len(w)>3 and w.endswith(\"er\"):\n",
    "         print(w.replace(\"er\",\"est\"))\n",
    "    elif w.endswith(\"est\"):\n",
    "        print(w)\n",
    "    else:\n",
    "        print(w+\"er\")"
   ]
  },
  {
   "cell_type": "markdown",
   "metadata": {
    "id": "PsBbgc4YU1yp"
   },
   "source": [
    "### Task 3\n",
    "\n",
    "Write a Python program that will ask the user to input a string (containing exactly one word). Then print the ASCII code for each character in the String using the ord() function. \n",
    "\n",
    "To check if your program is working correctly or not, you can find a list of all correct values from the following website. You may look at “Dec” and “Char” columns only and ignore the other columns for this problem.\\\n",
    "link: http://www.asciitable.com/\n",
    "\n",
    "=====================================================================\n",
    "\n",
    "**Example 1:**\\\n",
    "Input: Programming\\\n",
    "Output:\\\n",
    "P : 80\\\n",
    "r : 114\\\n",
    "o : 111\\\n",
    "g : 103\\\n",
    "r : 114\\\n",
    "a : 97\\\n",
    "m : 109\\\n",
    "m : 109\\\n",
    "i : 105\\\n",
    "n : 110\\\n",
    "g : 103\n",
    "\n",
    "=====================================================================\n",
    "\n",
    "**Example 2:**\\\n",
    "Input: hunger\\\n",
    "Output:\\\n",
    "h : 104\\\n",
    "u : 117\\\n",
    "n : 110\\\n",
    "g : 103\\\n",
    "e : 101\\\n",
    "r : 114 \n",
    "\n",
    "====================================================================="
   ]
  },
  {
   "cell_type": "code",
   "execution_count": null,
   "metadata": {
    "id": "r8by7ONZU1ys"
   },
   "outputs": [],
   "source": [
    "#task 3\n",
    "w = input(\"Please enter a word:\")\n",
    "\n",
    "for i in w:\n",
    "    print(i,\":\",ord(i))"
   ]
  },
  {
   "cell_type": "markdown",
   "metadata": {
    "id": "O8lIVppgU1yw"
   },
   "source": [
    "### Task 4\n",
    "\n",
    "Take a string as a input from the user with all small letters. Then print the next alphabet in sequence for each alphabet found in the input.\n",
    "\n",
    "=====================================================================\n",
    "\n",
    "\n",
    "*Hint: You may need to use the functions ord() and chr(). The ASCII value of ‘a’ is 97 and ‘z’ is 122.*\n",
    "\n",
    "=====================================================================\n",
    "\n",
    "**Example 1:**\\\n",
    "Input: abcd\\\n",
    "Output: bcde\n",
    "\n",
    "=====================================================================\n",
    "\n",
    "**Example 2:**\\\n",
    "Input: the cow\\\n",
    "Output: uif!dpx\n",
    "\n",
    "=====================================================================\n",
    "\n",
    "**Example 3: <font color='red'>[Must fulfil this criteria]</font>**\\\n",
    "Input: xyzabc\\\n",
    "Output: yzabcd\n",
    "\n",
    "=====================================================================\n"
   ]
  },
  {
   "cell_type": "code",
   "execution_count": 1,
   "metadata": {
    "id": "Hyvy8WNNU1yx"
   },
   "outputs": [
    {
     "name": "stdout",
     "output_type": "stream",
     "text": [
      "Please enter a word:xyzabc\n",
      "yzabcd"
     ]
    }
   ],
   "source": [
    "#task 4\n",
    "w = input(\"Please enter a word:\")  \n",
    "\n",
    "for i in w:\n",
    "    \n",
    "    if i==\"z\":\n",
    "        print(\"a\",end=\"\")\n",
    "    else:\n",
    "        print(chr(ord(i)+1),end=\"\")\n"
   ]
  },
  {
   "cell_type": "markdown",
   "metadata": {
    "id": "leVtdAsdymXM"
   },
   "source": [
    "### Task 5\n",
    "\n",
    "Write a Python program that will ask the user to enter two strings (s1, s2) as an input. Then create a mixed string with alternative characters from each string. Any leftover chars will be appended at the end of the resulting string.\n",
    "\n",
    "=====================================================================\n",
    "\n",
    "*Hint: For adding the leftover characters you may use string slicing.*\n",
    "\n",
    "=====================================================================\n",
    "\n",
    "**Example 1:**\\\n",
    "Input:\\\n",
    "ABCD\\\n",
    "efgh\n",
    "\n",
    "Output:\\\n",
    "AeBfCgDh\n",
    "\n",
    "=====================================================================\n",
    "\n",
    "**Example 2:**\\\n",
    "Input:\\\n",
    "ABCDENDFGH\\\n",
    "ijkl\n",
    "\n",
    "Output:\\\n",
    "AiBjCkDlENDFGH\n",
    "\n",
    "=====================================================================\n",
    "\n",
    "**Example 3:**\\\n",
    "Input:\\\n",
    "ijkl\\\n",
    "ABCDENDFGH\n",
    "\n",
    "Output:\\\n",
    "iAjBkClDENDFGH\n",
    "\n",
    "=====================================================================\n"
   ]
  },
  {
   "cell_type": "code",
   "execution_count": 3,
   "metadata": {
    "id": "kC1cq47myny6"
   },
   "outputs": [
    {
     "name": "stdout",
     "output_type": "stream",
     "text": [
      "Please enter a word:hgsdukhskABCDEH\n",
      "Please enter a word:ABCDEF\n",
      "hAgBsCdDuEkFhskABCDEH\n"
     ]
    }
   ],
   "source": [
    "#task 5\n",
    "w1 = input(\"Please enter a word:\") \n",
    "w2 = input(\"Please enter a word:\") \n",
    "output = \"\"\n",
    "if len(w1) > len(w2):\n",
    "    for i in range (len(w2)):\n",
    "        output = output + w1[i] + w2[i]\n",
    "    output = output + w1[len(w2):]\n",
    "else:\n",
    "    for i in range (len(w1)):\n",
    "        output = output + w1[i] + w2[i]\n",
    "    output = output + w2[len(w1):]\n",
    "print (output)"
   ]
  },
  {
   "cell_type": "markdown",
   "metadata": {
    "id": "AWQJrJW3U1y3"
   },
   "source": [
    "### Task 6\n",
    "Given a string, create a new string with all the **consecutive duplicates removed**. \n",
    "\n",
    "=====================================================================\n",
    "\n",
    "**Hint:** You may make a new string to store the result. You can check whether the current character and the next character are the same, then add that character to the new string.\n",
    "\n",
    "=====================================================================\n",
    "\n",
    "\n",
    "**Sample Input**:\\\n",
    "AAABBBBCDDBBECE\n",
    "\n",
    "**Sample Output:**\\\n",
    "ABCDBECE\n",
    "\n",
    "=====================================================================\n"
   ]
  },
  {
   "cell_type": "code",
   "execution_count": 4,
   "metadata": {
    "id": "oNv_JNgUU1y4"
   },
   "outputs": [
    {
     "name": "stdout",
     "output_type": "stream",
     "text": [
      "Please enter a word:aaabbbbcccaaabchcbajaaa\n",
      "abcabchcbaja"
     ]
    }
   ],
   "source": [
    "#task 6\n",
    "w = input(\"Please enter a word:\")\n",
    "currenr_latter = \"\"\n",
    "output_str = \"\"\n",
    "\n",
    "for i in w:\n",
    "    if (i != currenr_latter):\n",
    "        currenr_latter = i\n",
    "        output_str = output_str + i\n",
    "print(output_str, end=\"\") "
   ]
  },
  {
   "cell_type": "markdown",
   "metadata": {
    "id": "4zI6tmFN0i4y"
   },
   "source": [
    "### Task 7\n",
    "\n",
    "Write a python program that takes 2 inputs from the user, where the first input is a string with length greater than 1. The second input is the index of the first given string from where you have to start reversing. Then print the new string back to the user.\n",
    "\n",
    "=====================================================================\n",
    "\n",
    "**Sample Input 1:**\n",
    "\n",
    "72418\n",
    "\n",
    "4\n",
    "\n",
    "**Sample Output 1:**\n",
    "\n",
    "81427\n",
    "\n",
    "\n",
    "**Explanation**: Our second input, index '4' is the last index of our first input String '72418', hence the entire string is reversed giving us '81427'.\n",
    "\n",
    "=====================================================================\n",
    "\n",
    "**Sample Input 2:**\n",
    "\n",
    "12345 \n",
    "\n",
    "2\n",
    "\n",
    "**Sample Output 2:**\n",
    "\n",
    "32145\n",
    "\n",
    "**Explanation**: The second input is '2' so we have to reverse from index 2 of our first input. The 2nd index of our first input String is '3', index 1 is '2' and index 0 is '1'. Hence, if we reverse indexes 0 to 2, we get '321'. Index 3 and 4 which is '4' and '5' respectively remains unchanged hence our final output is '32145'.\n",
    "\n",
    "=====================================================================\n",
    "\n",
    "**Sample Input 3:**\n",
    "\n",
    "aBcd1234defg\n",
    "\n",
    "5\n",
    "\n",
    "**Sample Output 3:**\n",
    "\n",
    "21dcBa34defg\n",
    "\n",
    "**Explanation**: From our first input String 'aBcd1234defg', \n",
    "\n",
    "index 0 = 'a'\n",
    "\n",
    "index 1 = 'B'\n",
    "\n",
    "index 2 = 'c'\n",
    "\n",
    "index 3 = 'd'\n",
    "\n",
    "index 4 = '1'\n",
    "\n",
    "index 5 = '2'\n",
    "\n",
    "index 6 = '3'\n",
    "\n",
    "Since our second input is 5, index 0 to index 5 is reversed and we have '21dcBa' and the rest is unchanged from indexes 6 to 11 ('34defg'). Therefore, we have '21dcBa34defg' finally.\n",
    "\n",
    "=====================================================================\n"
   ]
  },
  {
   "cell_type": "code",
   "execution_count": null,
   "metadata": {
    "id": "NoqaHxEq81np"
   },
   "outputs": [],
   "source": [
    "#task 7\n",
    "w = input(\"Please enter a number:\")\n",
    "i = int(input(\"Please enter a number:\"))\n",
    "z = i\n",
    "output_str = \"\"\n",
    "\n",
    "for x in range (i+1):\n",
    "    output_str = output_str + w[z]\n",
    "    z = z-1\n",
    "output_str = output_str + w[i+1:]\n",
    "print(output_str, end=\"\")\n"
   ]
  },
  {
   "cell_type": "markdown",
   "metadata": {
    "id": "G1KGod9C87t_"
   },
   "source": [
    "### Task 8\n",
    "\n",
    "Write a python program that splits a given string on a given split character. The first input is a String and the second input is the character that will be used to split the first String. <font color='red'>[You cannot use the built-in split function]</font>\n",
    "\n",
    "=====================================================================\n",
    "\n",
    "**Sample Input 1:**<br/>\n",
    "This-is-CSE110<br/>\n",
    "-<br/>\n",
    "\n",
    "**Sample Output 1:**<br/>\n",
    "This<br/>\n",
    "is<br/>\n",
    "CSE110\n",
    "\n",
    "**Explanation**: The second input which is the character '-', is used to split or divide the first input String 'This-is-CSE110' into 'This', 'is' and 'CSE110' which are printed individually in seperate lines.\n",
    "\n",
    "=====================================================================\n",
    "\n",
    "**Sample Input 2**:\n",
    "tom@gmail,harry@yahoo,bob@gmail,mary@gmail\n",
    "\n",
    ",\n",
    "\n",
    "**Sample Output 2**:\n",
    "\n",
    "tom@gmail\n",
    "\n",
    "harry@yahoo\n",
    "\n",
    "bob@gmail\n",
    "\n",
    "mary@gmail\n",
    "\n",
    "====================================================================="
   ]
  },
  {
   "cell_type": "code",
   "execution_count": 5,
   "metadata": {
    "id": "A9zuROkY9qre"
   },
   "outputs": [
    {
     "name": "stdout",
     "output_type": "stream",
     "text": [
      "tom@gmail,harry@yahoo,bob@gmail,mary@gmail\n",
      ",\n",
      "tom@gmail\n",
      "harry@yahoo\n",
      "bob@gmail\n",
      "mary@gmail\n"
     ]
    }
   ],
   "source": [
    "#task 8\n",
    "string_1 = input()\n",
    "separator = input()\n",
    "output = \"\"\n",
    "\n",
    "for i in (string_1):\n",
    "    if (i != separator):\n",
    "        output = output + i\n",
    "    else:\n",
    "        print(output)\n",
    "        output = \"\"\n",
    "print(output)      \n"
   ]
  },
  {
   "cell_type": "markdown",
   "metadata": {
    "id": "lPoDvm8YU1y9"
   },
   "source": [
    "### Task 9\n",
    "\n",
    "Suppose you are given two strings, s1, and s2. Now, print a new string made up of the last characters and then the first characters of the input strings.\n",
    "\n",
    "=====================================================================\n",
    "\n",
    "**Sample Input 1**:\n",
    "\n",
    "s1 = new\n",
    "\n",
    "s2= string\n",
    "\n",
    "**Sample Output 1**:\n",
    "\n",
    "gwsn\n",
    "\n",
    "**Explanation:** The last character of the String s2 is 'g'. The last character of the String s1 is 'w'. The first character of the String s2 is 's'. The first character of the String s1 is 'n'. Together they give us the ouput we want 'gwsn'.\n",
    "\n",
    "=====================================================================\n",
    "\n",
    "**Sample Input 2**:\n",
    "\n",
    "s1 = abcd\n",
    "\n",
    "s2= efgh\n",
    "\n",
    "**Sample Output 2**: \n",
    "\n",
    "hdea\n",
    "\n",
    "**Explanation:** The last characters of the Strings s2 and s1 is 'h' and 'd' respectively while the first characters of the Strings is 'e' and 'a' respectively. Together they give us the ouput we want 'gwsn'.\n",
    "\n",
    "=====================================================================\n"
   ]
  },
  {
   "cell_type": "code",
   "execution_count": 6,
   "metadata": {
    "id": "z26BN9B3U1y_"
   },
   "outputs": [
    {
     "name": "stdout",
     "output_type": "stream",
     "text": [
      "abch\n",
      "djsc\n",
      "chda\n"
     ]
    }
   ],
   "source": [
    "#task 9\n",
    "string_1 = input()\n",
    "string_2 = input()\n",
    "\n",
    "print(string_2[-1]+string_1[-1]+string_2[0]+string_1[0])\n"
   ]
  },
  {
   "cell_type": "markdown",
   "metadata": {
    "id": "ZrjtT-I_U1zD"
   },
   "source": [
    "### Task 10\n",
    "\n",
    "Write a Python program that takes a String as input from the user, removes the characters at even index and prints the resulting String in uppercase.\n",
    "\n",
    "=====================================================================\n",
    "\n",
    "**Sample Input 1**:\n",
    "\n",
    "String\n",
    "\n",
    "**Sample Output 1**: \n",
    "\n",
    "TIG\n",
    "\n",
    "**Explanation**: The characters 'S', 'r' and 'n' are at index positions 0, 2, and 4 respectively. Hence they are removed and the remaining characters 'tig' are capitalized giving us output 'TIG'.\n",
    "\n",
    "=====================================================================\n",
    "\n",
    "**Sample Input 2**:\n",
    "\n",
    "abcd\n",
    "\n",
    "**Sample Output 2**: \n",
    "\n",
    "BD\n",
    "\n",
    "=====================================================================\n"
   ]
  },
  {
   "cell_type": "code",
   "execution_count": 3,
   "metadata": {
    "executionInfo": {
     "elapsed": 789,
     "status": "ok",
     "timestamp": 1636371385023,
     "user": {
      "displayName": "Nabuat Zaman Nahim",
      "photoUrl": "https://lh3.googleusercontent.com/a-/AOh14GilJfaWRPq7daLbF4lvVuz1nI5vlQEwOIlBlGHF=s64",
      "userId": "09382019355754758534"
     },
     "user_tz": -360
    },
    "id": "3r7Ripj7U1zE"
   },
   "outputs": [],
   "source": [
    "#task 10\n",
    "w = input()\n",
    "output_str = \"\"\n",
    "\n",
    "for i in range (len(w)):\n",
    "    if (i%2!=0):\n",
    "        output_str = output_str + w[i]\n",
    "print(output_str.upper())\n"
   ]
  },
  {
   "cell_type": "markdown",
   "metadata": {
    "id": "AWgZaBZCzmaM"
   },
   "source": [
    "### Task 11\n",
    "\n",
    "Write a python program that takes two inputs. The first input is a string and the second input is a number. If the number is even then concatenate the given string two times the given number and if the number is odd then concatenate the given string three times the given number.\n",
    "\n",
    "=====================================================================\n",
    "\n",
    "**Sample Input 1**:\n",
    "\n",
    "CSE110\n",
    "\n",
    "4\n",
    "\n",
    "**Sample output 1**:\n",
    "\n",
    "CSE110CSE110CSE110CSE110CSE110CSE110CSE110CSE110\n",
    "\n",
    "**Explanation**: The second input which is the number 4 is even, therefore the first string input 'CSE110' is concatenated(joined together) 4*2 = 8 times.\n",
    "\n",
    "=====================================================================\n",
    "\n",
    "**Sample Input 2**:\n",
    "\n",
    "CSE110\n",
    "\n",
    "3\n",
    "\n",
    "**Sample Output 2**:\n",
    "\n",
    "CSE110CSE110CSE110CSE110CSE110CSE110CSE110CSE110CSE110\n",
    "\n",
    "=====================================================================\n"
   ]
  },
  {
   "cell_type": "code",
   "execution_count": 1,
   "metadata": {
    "executionInfo": {
     "elapsed": 517,
     "status": "ok",
     "timestamp": 1636371377209,
     "user": {
      "displayName": "Nabuat Zaman Nahim",
      "photoUrl": "https://lh3.googleusercontent.com/a-/AOh14GilJfaWRPq7daLbF4lvVuz1nI5vlQEwOIlBlGHF=s64",
      "userId": "09382019355754758534"
     },
     "user_tz": -360
    },
    "id": "ICW-03YOznTp"
   },
   "outputs": [
    {
     "name": "stdout",
     "output_type": "stream",
     "text": [
      "CSE110\n",
      "5\n",
      "CSE110CSE110CSE110CSE110CSE110CSE110CSE110CSE110CSE110CSE110CSE110CSE110CSE110CSE110CSE110\n"
     ]
    }
   ],
   "source": [
    "#task 11\n",
    "string = input()\n",
    "number = int(input())\n",
    "\n",
    "if (number%2==0):\n",
    "    print(string*(number*2))\n",
    "else:\n",
    "    print(string*(number*3))\n"
   ]
  },
  {
   "cell_type": "markdown",
   "metadata": {
    "id": "7a_1pYjfU1zI"
   },
   "source": [
    "### Task 12\n",
    "\n",
    "Write a python program that takes 2 inputs from the user. The first input is a string and the second input is a letter. The program should remove all occurences of the letter from the given string and print the output. If the letter is not found in the string and the length of string is greater than 3, then remove the first letter and last letter of the given string and print it. Otherwise print the string as it is. [You can assume that all the input will be in lowercase letter]\n",
    "\n",
    "=====================================================================\n",
    "\n",
    "\n",
    "**Sample Input 1**:\n",
    "\n",
    "tanjiro kamado\n",
    "\n",
    "a\n",
    "\n",
    "**Sample output 1**:\n",
    "\n",
    "tnjiro kmdo\n",
    "\n",
    "**Explanation**: All 3 instances of the character 'a' is removed from the input String 'tanjiro kamado' to give us output 'tnjiro kmdo'.\n",
    "\n",
    "=====================================================================\n",
    "\n",
    "**Sample Input 2**:\n",
    "\n",
    "eren yeager\n",
    "\n",
    "k\n",
    "\n",
    "\n",
    "**Sample Output 2**:\n",
    "\n",
    "ren yeage\n",
    "\n",
    "**Explanation**: The character 'k' is absent in the first input String 'eren yeager' and it's length is 11 which is greater than 3 therefore the first character 'e' and the last character 'r' is removed. Hence, the final String is 'ren yeage'.\n",
    "\n",
    "=====================================================================\n",
    "\n",
    "Sample Input 3:\n",
    "\n",
    "hi\n",
    "\n",
    "a\n",
    "\n",
    "Sample Output 3:\n",
    "\n",
    "hi\n",
    "\n",
    "**Explanation**: The letter 'a' is not found in our first input 'hi', the length of which is 2. Since the character is not present and the length is less than 3, we print the String 'hi' as it is.\n",
    "\n",
    "=====================================================================\n"
   ]
  },
  {
   "cell_type": "code",
   "execution_count": 1,
   "metadata": {
    "executionInfo": {
     "elapsed": 3,
     "status": "ok",
     "timestamp": 1636371365920,
     "user": {
      "displayName": "Nabuat Zaman Nahim",
      "photoUrl": "https://lh3.googleusercontent.com/a-/AOh14GilJfaWRPq7daLbF4lvVuz1nI5vlQEwOIlBlGHF=s64",
      "userId": "09382019355754758534"
     },
     "user_tz": -360
    },
    "id": "vToa7yazU1zI"
   },
   "outputs": [],
   "source": [
    "#task 12\n",
    "string = input()\n",
    "latter = input()\n",
    "counter = 0\n",
    "output_str = \"\"\n",
    "\n",
    "if len(string)>3 and latter not in string:\n",
    "    print(string[1:len(string)-1])\n",
    "    \n",
    "else:\n",
    "    for i in string:\n",
    "        if (i != latter):\n",
    "            output_str = output_str + i\n",
    "    print(output_str)\n"
   ]
  },
  {
   "cell_type": "markdown",
   "metadata": {
    "id": "WZXnxHTdGrMC"
   },
   "source": [
    "## Optional Tasks (13 - 15) [Ungraded]"
   ]
  },
  {
   "cell_type": "markdown",
   "metadata": {
    "id": "nwRZ3_0tC3fq"
   },
   "source": [
    "### Task 13\n",
    "\n",
    "\n",
    "Write a python program that takes a string as an input from the user and then modifies the string in such a way that the string always starts with an uppercase letter and the case of each subsequent letter is the opposite of the previous letter (uppercase character followed by a lowercase character followed by an uppercase character and so on).  Finally the modified string is printed to show the user.\n",
    "\n",
    "*Hint:  Flags/counters can be used to manage uppercase-lowercase.*\n",
    "\n",
    "=====================================================================\n",
    "\n",
    "**Sample Input 1:**\\\n",
    "Python programming is very easy\n",
    "\n",
    "**Sample Output 1:**\\\n",
    "PyThOn PrOgRaMmInG iS vErY eAsY\n",
    "\n",
    "=====================================================================\n",
    "\n",
    "**Sample Input 2:**\\\n",
    "I&nbsp;&nbsp;&nbsp;&nbsp;&nbsp;&nbsp;     love       &nbsp;&nbsp;&nbsp;&nbsp;&nbsp;&nbsp;&nbsp; Python &nbsp;&nbsp;&nbsp;&nbsp;&nbsp;&nbsp;&nbsp;&nbsp;Programming\n",
    "\n",
    "**Sample Output 2:**\\\n",
    "I&nbsp;&nbsp;&nbsp;&nbsp;&nbsp;&nbsp;     lOvE       &nbsp;&nbsp;&nbsp;&nbsp;&nbsp;&nbsp;&nbsp;pYtHoN&nbsp;&nbsp;&nbsp;&nbsp;&nbsp;&nbsp;&nbsp;&nbsp;pRoGrAmMiNg\n",
    "\n",
    "=====================================================================\n",
    "\n",
    "**Sample Input 3:**\\\n",
    "CSE110 Course\n",
    "\n",
    "**Sample Output 3**\\\n",
    "CsE110 cOuRsE\n",
    "\n",
    "\n",
    "\n",
    "=====================================================================\n",
    "\n",
    "**Sample Input 4:**\\\n",
    "c\n",
    "\n",
    "**Sample Output 4:**\\\n",
    "C\n",
    "\n",
    "=====================================================================\n"
   ]
  },
  {
   "cell_type": "code",
   "execution_count": 3,
   "metadata": {
    "id": "LEnaTlyoMJdS"
   },
   "outputs": [
    {
     "name": "stdout",
     "output_type": "stream",
     "text": [
      "I       lOvE        pYtHoN        pRoGrAmMiNg\n",
      "I       lOvE        pYtHoN        pRoGrAmMiNg"
     ]
    }
   ],
   "source": [
    "#task13\n",
    "word = input()\n",
    "counter= True \n",
    "for i in word:\n",
    "    if i == \" \":\n",
    "        print(\" \", end=\"\")\n",
    "    elif counter== True:\n",
    "        print(i.upper(), end=\"\")\n",
    "        counter=False\n",
    "        \n",
    "    elif counter==False:\n",
    "        print(i.lower(), end=\"\")\n",
    "        counter=True\n"
   ]
  },
  {
   "cell_type": "markdown",
   "metadata": {
    "id": "EEkcqbIJBKel"
   },
   "source": [
    "### Task 14 \n",
    "An anagram is a play on words created by rearranging the letters of the original word to make a new word or phrase.\n",
    "So we can say two words are anagrams if they contain all of the same letters, but in a different order.\n",
    "\n",
    "\n",
    "Write a python program that takes two strings from the user and tells if they are anagram or not.\n",
    "\n",
    "=====================================================================\n",
    "\n",
    "<b>Sample Input 1: </b><br/>\n",
    "dusty<br/>\n",
    "study<br/>\n",
    "<b>Sample Output 1: </b> <br/>\n",
    "They are anagram<br/>\n",
    "\n",
    "=====================================================================\n",
    "\n",
    "<b>Sample Input 2: </b><br/>\n",
    "dustyyy<br/>\n",
    "study<br/>\n",
    "<b>Sample Output 2: </b><br/>\n",
    "They are not anagram"
   ]
  },
  {
   "cell_type": "code",
   "execution_count": null,
   "metadata": {
    "id": "dvjY9pE2BLVT"
   },
   "outputs": [],
   "source": [
    "#task14\n",
    "word1 = input()\n",
    "word2 = input()\n",
    "counter = True\n",
    "if len(word1)!=len(word2):\n",
    "    print(\"They are not anagram\")\n",
    "else:    \n",
    "    for i in word1:\n",
    "        flag = False\n",
    "        for j in word2:\n",
    "            if i == j:\n",
    "                flag = True\n",
    "        if flag == False:\n",
    "            counter = False\n",
    "            break\n",
    "    for i in word2:\n",
    "        flag = False\n",
    "        for j in word1:\n",
    "            if i == j:\n",
    "                flag = True\n",
    "        if flag == False:\n",
    "            counter = False\n",
    "            break        \n",
    "    if counter==True:\n",
    "        print(\"Ther are anagram\")\n",
    "    else:\n",
    "        print(\"They are not anagram\")\n",
    "            \n"
   ]
  },
  {
   "cell_type": "markdown",
   "metadata": {
    "id": "sHeGC4Tf7z81"
   },
   "source": [
    "###Task 15\n",
    "\n",
    "Write a python program thats prints the largest consecutive sequence from a given string S. For example, if S = ‘AABBBCCAAAA’, print ‘AAAA’. If more than one largest consecutive sequence exists, print the first one. Print NONE if no consecutive sequence is found.\n",
    "\n",
    "=====================================================================\n",
    "\n",
    "**Sample Input 1:**<br/>\n",
    "AABBBCCAAAA<br/>\n",
    "**Sample Output 1:**<br/>\n",
    "AAAA<br/>\n",
    "\n",
    "=====================================================================\n",
    "\n",
    "**Sample Input 2:**<br/>\n",
    "AABBCC<br/>\n",
    "**Sample Output 2:**<br/>\n",
    "AA<br/>\n",
    "\n",
    "=====================================================================\n",
    "\n",
    "**Sample Input 3:**<br/>\n",
    "ABCD<br/>\n",
    "**Sample Output 3:**<br/>\n",
    "NONE<br/>\n",
    "\n",
    "====================================================================="
   ]
  },
  {
   "cell_type": "code",
   "execution_count": 4,
   "metadata": {
    "id": "lModRb2L0oqS"
   },
   "outputs": [
    {
     "name": "stdout",
     "output_type": "stream",
     "text": [
      "AABBBCCAAAA\n",
      "AAAA\n"
     ]
    }
   ],
   "source": [
    "#task15\n",
    "word = input()\n",
    "counter = 0\n",
    "max1 = 0\n",
    "counter1 = 0\n",
    "for i in range(1,len(word)):\n",
    "    if word[i]==word[i-1]:\n",
    "        counter+=1\n",
    "    if word[i]!=word[i-1] or i==len(word)-1:\n",
    "        if max1==0 :\n",
    "            max1=counter\n",
    "            counter=0\n",
    "            if  i==len(word)-1:\n",
    "                counter1=i+1\n",
    "            else:\n",
    "                counter1 = i\n",
    "        elif counter>max1:\n",
    "            max1=counter\n",
    "            counter=0\n",
    "            if  i==len(word)-1:\n",
    "                counter1=i+1\n",
    "            else:\n",
    "                counter1 = i\n",
    "        else:\n",
    "            counter=0\n",
    "if max1==0:\n",
    "    print(\"NONE\")\n",
    "else:    \n",
    "    print(word[counter1 - max1-1:counter1])\n"
   ]
  },
  {
   "cell_type": "code",
   "execution_count": null,
   "metadata": {},
   "outputs": [],
   "source": []
  }
 ],
 "metadata": {
  "colab": {
   "collapsed_sections": [],
   "name": "CSE110 Lab Assignment 3 (String).ipynb",
   "provenance": []
  },
  "kernelspec": {
   "display_name": "Python 3",
   "language": "python",
   "name": "python3"
  },
  "language_info": {
   "codemirror_mode": {
    "name": "ipython",
    "version": 3
   },
   "file_extension": ".py",
   "mimetype": "text/x-python",
   "name": "python",
   "nbconvert_exporter": "python",
   "pygments_lexer": "ipython3",
   "version": "3.8.8"
  }
 },
 "nbformat": 4,
 "nbformat_minor": 1
}
