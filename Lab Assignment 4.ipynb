{
 "cells": [
  {
   "cell_type": "code",
   "execution_count": 1,
   "id": "51716ea7",
   "metadata": {},
   "outputs": [
    {
     "name": "stdout",
     "output_type": "stream",
     "text": [
      "Numbers in the list:10\n",
      "[10]\n",
      "Numbers in the list:20\n",
      "[10, 20]\n",
      "Numbers in the list:5\n",
      "[10, 20, 5]\n",
      "Numbers in the list:29\n",
      "[10, 20, 5, 29]\n",
      "Numbers in the list:30\n",
      "[10, 20, 5, 29, 30]\n",
      "Numbers in the list:45\n",
      "[10, 20, 5, 29, 30, 45]\n",
      "Numbers in the list:12\n",
      "[10, 20, 5, 29, 30, 45, 12]\n",
      "Numbers in the list:13\n",
      "[10, 20, 5, 29, 30, 45, 12, 13]\n",
      "Numbers in the list:4\n",
      "[10, 20, 5, 29, 30, 45, 12, 13, 4]\n",
      "Numbers in the list:54\n",
      "[10, 20, 5, 29, 30, 45, 12, 13, 4, 54]\n"
     ]
    }
   ],
   "source": [
    "#task 1\n",
    "list1=[]\n",
    "\n",
    "for i in range(10):\n",
    "    number = int(input(\"Numbers in the list:\"))\n",
    "    list1.append(number)\n",
    "    print(list1)"
   ]
  },
  {
   "cell_type": "code",
   "execution_count": 5,
   "id": "4e30d094",
   "metadata": {},
   "outputs": [
    {
     "name": "stdout",
     "output_type": "stream",
     "text": [
      "6\n",
      "Numbers in the list:1\n",
      "Numbers in the list:2\n",
      "Numbers in the list:3\n",
      "Numbers in the list:4\n",
      "Numbers in the list:5\n",
      "Numbers in the list:6\n",
      "[3, 4]\n"
     ]
    }
   ],
   "source": [
    "#task 2\n",
    "list_length = int(input())\n",
    "list1 = []\n",
    "\n",
    "for i in range(list_length):\n",
    "    number = int(input(\"Numbers in the list:\"))\n",
    "    list1.append(number)\n",
    "print(list1)\n",
    "    \n",
    "if len(list1) < 4:\n",
    "    print(\"Not possible\")\n",
    "else:\n",
    "    print(list1[2:-2])"
   ]
  },
  {
   "cell_type": "code",
   "execution_count": 8,
   "id": "4a8f2243",
   "metadata": {},
   "outputs": [
    {
     "name": "stdout",
     "output_type": "stream",
     "text": [
      "5\n",
      "-5\n",
      "100\n",
      "1\n",
      "0\n",
      "Input data: [5, -5, 100, 1, 0]\n",
      "Printing values from the list in reverse order:\n",
      "0\n",
      "1\n",
      "100\n",
      "-5\n",
      "5\n"
     ]
    }
   ],
   "source": [
    "#task 3\n",
    "list1 = []\n",
    "\n",
    "for i in range(5):\n",
    "    number = int(input(\"\"))\n",
    "    list1.append(number)\n",
    "print(\"Input data:\",list1)\n",
    "print(\"Printing values from the list in reverse order:\")\n",
    "\n",
    "#print(list1[-1::-1])\n",
    "counter = len(list1) - 1\n",
    "for i in range(len(list1)):\n",
    "    print(list1[counter])\n",
    "    counter = counter - 1\n",
    "    "
   ]
  },
  {
   "cell_type": "code",
   "execution_count": 6,
   "id": "2d12b786",
   "metadata": {},
   "outputs": [
    {
     "name": "stdout",
     "output_type": "stream",
     "text": [
      "['hey', 'there', \"what's\", 'up', '?']\n"
     ]
    }
   ],
   "source": [
    "#task 5\n",
    "#string = input()\n",
    "list1 = [\"hey\", \"there\", \"\", \"what's\", \"\", \"up\", \"\", \"?\"]\n",
    "list2 = []\n",
    "\n",
    "for i in list1:\n",
    "    if i==\"\":\n",
    "        pass\n",
    "    else:\n",
    "        list2.append(i)\n",
    "print(list2)    "
   ]
  },
  {
   "cell_type": "code",
   "execution_count": 26,
   "id": "7f0708c4",
   "metadata": {},
   "outputs": [
    {
     "name": "stdout",
     "output_type": "stream",
     "text": [
      "7\n",
      "13\n",
      "2\n",
      "10\n",
      "6\n",
      "My list: [7, 13, 2, 10, 6]\n",
      "Largest number in the list is 13 which was found at index 1 .\n"
     ]
    }
   ],
   "source": [
    "#task 6\n",
    "list1 = []\n",
    "\n",
    "for i in range(5):\n",
    "    number = int(input(\"\"))\n",
    "    list1.append(number)\n",
    "print(\"My list:\",list1)\n",
    "\n",
    "max1 = list1[0]\n",
    "max1_index = 0\n",
    "for i in range(len(list1)):\n",
    "    if list1[i]>max1:\n",
    "        max1 = list1[i]\n",
    "        max1_index = i\n",
    "print(\"Largest number in the list is\", max1, \"which was found at index\",max1_index,\".\")"
   ]
  },
  {
   "cell_type": "code",
   "execution_count": 13,
   "id": "bae8d5fa",
   "metadata": {},
   "outputs": [
    {
     "name": "stdout",
     "output_type": "stream",
     "text": [
      "4\n",
      "4\n",
      "1\n",
      "4\n",
      "3\n",
      "2\n",
      "List_one: [1, 4, 3, 2]\n",
      "4\n",
      "5\n",
      "3\n",
      "6\n",
      "List_two: [4, 5, 3, 6]\n",
      "[1, 4, 3, 4, 5, 3, 6]\n"
     ]
    }
   ],
   "source": [
    "#task 7\n",
    "\n",
    "list_length1 = int(input(\"length of the list one:\"))\n",
    "list_length2 = int(input(\"length of the list two:\"))\n",
    "list1 = []\n",
    "list2 = [] \n",
    "\n",
    "for i in range(list_length1):\n",
    "    number1 = int(input(\"Number of list one:\"))\n",
    "    list1.append(number1)\n",
    "print(\"List_one:\",list1)\n",
    "\n",
    "for i in range(list_length2):\n",
    "    number2 = int(input(\"Number of list two:\"))\n",
    "    list2.append(number2)\n",
    "print(\"List_two:\",list2)\n",
    "output = list1[:-1]+list2\n",
    "print(output)\n"
   ]
  },
  {
   "cell_type": "code",
   "execution_count": 4,
   "id": "b37494c3",
   "metadata": {},
   "outputs": [
    {
     "name": "stdout",
     "output_type": "stream",
     "text": [
      "7\n",
      "8\n",
      "List_one:2\n",
      "List_one:3\n",
      "List_one:4\n",
      "List_one:5\n",
      "List_one:6\n",
      "List_one:7\n",
      "List_one:8\n",
      "[2, 3, 4, 5, 6, 7, 8]\n",
      "List_two:9\n",
      "List_two:10\n",
      "List_two:11\n",
      "List_two:12\n",
      "List_two:13\n",
      "List_two:14\n",
      "List_two:15\n",
      "List_two:16\n",
      "[9, 10, 11, 12, 13, 14, 15, 16]\n",
      "[2, 4, 6, 8, 10, 12, 14, 16]\n"
     ]
    }
   ],
   "source": [
    "#task 8\n",
    "\n",
    "list_length1 = int(input())\n",
    "list_length2 = int(input())\n",
    "list1 = []\n",
    "list2 = [] \n",
    "even_list = []\n",
    "\n",
    "for i in range(list_length1):\n",
    "    number1 = int(input(\"List_one:\"))\n",
    "    list1.append(number1)\n",
    "print(list1)\n",
    "\n",
    "for i in range(list_length2):\n",
    "    number2 = int(input(\"List_two:\"))\n",
    "    list2.append(number2)\n",
    "print(list2)\n",
    "\n",
    "for i in list1:\n",
    "    if i%2==0:\n",
    "        even_list.append(i)\n",
    "for i in list2:\n",
    "    if i%2==0:\n",
    "        even_list.append(i)\n",
    "\n",
    "print(even_list)        \n"
   ]
  },
  {
   "cell_type": "code",
   "execution_count": 1,
   "id": "b25655af",
   "metadata": {},
   "outputs": [
    {
     "name": "stdout",
     "output_type": "stream",
     "text": [
      "7 12 4 55 96 2 11 61 33 4\n",
      "Original list: [7, 12, 4, 55, 96, 2, 11, 61, 33, 4]\n",
      "Modified list: [7, 55, 11, 61, 33]\n"
     ]
    }
   ],
   "source": [
    "#task 9\n",
    "\n",
    "string = input()\n",
    "a = \"\"\n",
    "list1 = []\n",
    "modified_list = []\n",
    "\n",
    "for i in range(len(string)):\n",
    "    if string[i]==\" \":\n",
    "        list1.append(int(a))\n",
    "        a = \"\"\n",
    "    elif i==len(string)-1:\n",
    "        a+= string[i]\n",
    "        list1.append(int(a))\n",
    "        a = \"\"\n",
    "    elif string[i]!=\" \":\n",
    "        a+= string[i]\n",
    "print(\"Original list:\",list1) \n",
    "\n",
    "for j in list1:\n",
    "    if j%2 != 0:\n",
    "        modified_list.append(j)\n",
    "print(\"Modified list:\", modified_list)        "
   ]
  },
  {
   "cell_type": "code",
   "execution_count": 17,
   "id": "87ba76a4",
   "metadata": {},
   "outputs": [
    {
     "name": "stdout",
     "output_type": "stream",
     "text": [
      "0, 0, 1, 2, 3, 4, 4, 5, 6, 6, 6, 7, 8, 9, 4, 4\n",
      "Input list: [0, 0, 1, 2, 3, 4, 4, 5, 6, 6, 6, 7, 8, 9, 4, 4]\n",
      "Modified list: [0, 1, 2, 3, 4, 5, 6, 7, 8, 9]\n"
     ]
    }
   ],
   "source": [
    "#task 10\n",
    "\n",
    "list1 = input().split(\", \")\n",
    "new_list = []\n",
    "for j in list1:\n",
    "    new_list.append(int(j))\n",
    "print(\"Input list:\", new_list)\n",
    "\n",
    "list2 = []\n",
    "for i in new_list:\n",
    "    if i not in list2:\n",
    "        list2.append(i)\n",
    "print(\"Modified list:\",list2)        \n"
   ]
  },
  {
   "cell_type": "code",
   "execution_count": 9,
   "id": "154466df",
   "metadata": {},
   "outputs": [
    {
     "name": "stdout",
     "output_type": "stream",
     "text": [
      "3, 5, 1, 6\n",
      "[9, 25, 1, 36]\n"
     ]
    }
   ],
   "source": [
    "#task 4\n",
    "\n",
    "list1 = input().split(\", \")\n",
    "list2 = []\n",
    "for i in list1:\n",
    "    list2.append((int(i))**2)\n",
    "print(list2)    "
   ]
  },
  {
   "cell_type": "code",
   "execution_count": 7,
   "id": "14c28f4a",
   "metadata": {},
   "outputs": [
    {
     "name": "stdout",
     "output_type": "stream",
     "text": [
      "8, 7, 6, 9\n",
      "1, 4, 3, 2, 5\n",
      "False\n"
     ]
    }
   ],
   "source": [
    "#task 11\n",
    "\n",
    "list1 = input().split(\", \")\n",
    "list2 = input().split(\", \")\n",
    "list3 = []\n",
    "list4 = []\n",
    "for i in list1:\n",
    "    list3.append(int(i))\n",
    "   \n",
    "for j in list2:\n",
    "    list4.append(int(j))\n",
    "    \n",
    "for k in list3:\n",
    "    if k in list4:\n",
    "        print(\"True\")\n",
    "        break\n",
    "    else:\n",
    "        if list3.index(k)== (len(list3)-1):\n",
    "            print(\"False\")\n",
    "        "
   ]
  },
  {
   "cell_type": "code",
   "execution_count": null,
   "id": "84a0dc2b",
   "metadata": {},
   "outputs": [],
   "source": [
    "list1 = []\n",
    "\n",
    "for i in range(5):\n",
    "    number = int(input(\"\"))\n",
    "    list1.append(number)\n",
    "print(\"My list:\",list1)\n",
    "\n",
    "max1 = list1[0]\n",
    "max1_index = 0\n",
    "list2 = []\n",
    "min1 = list2[0]\n",
    "min1_index = 0\n",
    "for i in range(len(list1)):\n",
    "    if list1[i]>max1:\n",
    "        max1 = list1[i]\n",
    "        max1_index = i\n",
    "    elif list2    \n",
    "print(\"Largest number in the list is\", max1, \"which was found at index\",max1_index,\".\")\n",
    "\n"
   ]
  }
 ],
 "metadata": {
  "kernelspec": {
   "display_name": "Python 3",
   "language": "python",
   "name": "python3"
  },
  "language_info": {
   "codemirror_mode": {
    "name": "ipython",
    "version": 3
   },
   "file_extension": ".py",
   "mimetype": "text/x-python",
   "name": "python",
   "nbconvert_exporter": "python",
   "pygments_lexer": "ipython3",
   "version": "3.8.8"
  }
 },
 "nbformat": 4,
 "nbformat_minor": 5
}
