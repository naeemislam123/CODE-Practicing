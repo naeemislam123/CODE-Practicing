{
 "cells": [
  {
   "cell_type": "code",
   "execution_count": 1,
   "id": "fcb96799",
   "metadata": {
    "scrolled": true
   },
   "outputs": [
    {
     "name": "stdout",
     "output_type": "stream",
     "text": [
      "please enter the number:7\n",
      "pleae enter the number: 10\n",
      "Second is greater\n"
     ]
    }
   ],
   "source": [
    "#task 3 \n",
    "n1 = int(input('please enter the number:'))\n",
    "n2 = int(input('pleae enter the number: '))\n",
    "\n",
    "if (n1>n2):\n",
    "    print('First is greater')\n",
    "elif(n1<n2):\n",
    "    print('Second is greater')\n",
    "else:\n",
    "    print('The numbers are equal')"
   ]
  },
  {
   "cell_type": "code",
   "execution_count": 1,
   "id": "81193d7d",
   "metadata": {},
   "outputs": [
    {
     "name": "stdout",
     "output_type": "stream",
     "text": [
      "please enter a number:-15\n",
      "The number is odd\n"
     ]
    }
   ],
   "source": [
    "#task 5\n",
    "x = int(input(\"please enter a number:\"))\n",
    "\n",
    "if (x%2==0):\n",
    "    print(\"The number is even\")\n",
    "else:\n",
    "    print(\"The number is odd\")"
   ]
  },
  {
   "cell_type": "code",
   "execution_count": 5,
   "id": "b85bad1d",
   "metadata": {},
   "outputs": [
    {
     "name": "stdout",
     "output_type": "stream",
     "text": [
      "Enter the number :5\n",
      "Output\n",
      "5\n"
     ]
    }
   ],
   "source": [
    "#task 6\n",
    "\n",
    "x = int(input(\"Enter the number :\"))\n",
    "\n",
    "if (x%2==0 or x%5==0):\n",
    "    print(\"Output\")\n",
    "    print(x)\n",
    "else:\n",
    "    print(\"Not a multipale\")"
   ]
  },
  {
   "cell_type": "code",
   "execution_count": 8,
   "id": "3e8811d2",
   "metadata": {},
   "outputs": [
    {
     "name": "stdout",
     "output_type": "stream",
     "text": [
      "Enter a number:15\n",
      "15\n"
     ]
    }
   ],
   "source": [
    "#task 7\n",
    "\n",
    "x = int(input(\"Enter a number:\"))\n",
    "\n",
    "if (x%2==0 and x%5==0):\n",
    "    print(\"multiple of 2 and 5 both\")\n",
    "elif (x%2==0 or x%5==0): \n",
    "    print(x)\n",
    "else:\n",
    "    print(\"not multipale of any\")\n",
    "    "
   ]
  },
  {
   "cell_type": "code",
   "execution_count": 12,
   "id": "97fac565",
   "metadata": {},
   "outputs": [
    {
     "name": "stdout",
     "output_type": "stream",
     "text": [
      "please enter a number:4\n",
      "Not multiple of 2 and 5 both\n"
     ]
    }
   ],
   "source": [
    "#task 8\n",
    "x = int(input(\"please enter a number:\"))\n",
    "\n",
    "if (x%2==0 and x%5==0):\n",
    "    print(x)\n",
    "else:\n",
    "    print(\"Not multiple of 2 and 5 both\")"
   ]
  },
  {
   "cell_type": "code",
   "execution_count": 14,
   "id": "53162549",
   "metadata": {},
   "outputs": [
    {
     "name": "stdout",
     "output_type": "stream",
     "text": [
      "please enter a number:6\n",
      "No\n"
     ]
    }
   ],
   "source": [
    "#task 9\n",
    "x = int(input(\"please enter a number:\"))\n",
    "\n",
    "if (x%2!=0 and x%5!=0):\n",
    "    print(x)\n",
    "else:\n",
    "    print(\"No\")"
   ]
  },
  {
   "cell_type": "code",
   "execution_count": 20,
   "id": "2e7851e9",
   "metadata": {},
   "outputs": [
    {
     "name": "stdout",
     "output_type": "stream",
     "text": [
      "please enter a number:15\n",
      "No\n"
     ]
    }
   ],
   "source": [
    "#task 10\n",
    "x = int(input(\"please enter a number:\"))\n",
    "\n",
    "if (x%2!=0 or x%5!=0):\n",
    "    print(x)\n",
    "else:\n",
    "    print(\"No\")"
   ]
  },
  {
   "cell_type": "code",
   "execution_count": 17,
   "id": "187d40e6",
   "metadata": {},
   "outputs": [
    {
     "name": "stdout",
     "output_type": "stream",
     "text": [
      "Please enter your mark of a single subject:6\n",
      "F\n"
     ]
    }
   ],
   "source": [
    "#task 11\n",
    "x = int(input(\"Please enter your mark of a single subject:\"))\n",
    "\n",
    "if (0<=x <=100):\n",
    "    if x>=90:\n",
    "        print(\"A\")\n",
    "    elif 80<= x <=89:\n",
    "        print(\"B\")\n",
    "    elif 70<= x <=79:\n",
    "        print(\"C\")\n",
    "    elif 60<= x <=69:\n",
    "        print(\"D\")\n",
    "    elif 50<= x <=59:\n",
    "        print(\"E\")\n",
    "    else:\n",
    "        print(\"F\")\n",
    "else:\n",
    "    print(\"Your number is not valid\")"
   ]
  },
  {
   "cell_type": "code",
   "execution_count": 3,
   "id": "fd6a1a4e",
   "metadata": {},
   "outputs": [
    {
     "name": "stdout",
     "output_type": "stream",
     "text": [
      "please enter the number:5\n",
      "pleae enter the number: 5\n",
      "0\n"
     ]
    }
   ],
   "source": [
    "#task 4 \n",
    "n1 = int(input('please enter the number:'))\n",
    "n2 = int(input('pleae enter the number: '))\n",
    "\n",
    "if n1>n2:\n",
    "    print(n1-n2)\n",
    "else:\n",
    "    print(n2-n1)"
   ]
  },
  {
   "cell_type": "code",
   "execution_count": 23,
   "id": "035d503b",
   "metadata": {},
   "outputs": [
    {
     "name": "stdout",
     "output_type": "stream",
     "text": [
      "Please enter the number:45\n",
      "9500\n"
     ]
    }
   ],
   "source": [
    "#task 12\n",
    "x = int(input('Please enter the number:'))\n",
    "y = x-40\n",
    "\n",
    "if 0<x<=40:\n",
    "    print(x*200)\n",
    "elif 40<x<=168:\n",
    "    print(8000+(y*300))\n",
    "elif x<0:\n",
    "    print(\"Hour cannot be negative\")\n",
    "else:\n",
    "    print(\"Impossible to work more than 168 hours weekly\")"
   ]
  },
  {
   "cell_type": "code",
   "execution_count": 24,
   "id": "2d7a0b08",
   "metadata": {},
   "outputs": [
    {
     "name": "stdout",
     "output_type": "stream",
     "text": [
      "Given seconds:10000\n",
      "Hours: 2 Minuts: 46 Seconds: 40\n"
     ]
    }
   ],
   "source": [
    "#task 13\n",
    "x = int(input('Given seconds:'))\n",
    "hour = x//3600\n",
    "hour1 = x%3600\n",
    "minute = hour1//60\n",
    "second = hour1%60\n",
    "print(\"Hours:\",hour, \"Minuts:\",minute, \"Seconds:\", second)"
   ]
  },
  {
   "cell_type": "code",
   "execution_count": 31,
   "id": "e6684788",
   "metadata": {},
   "outputs": [
    {
     "name": "stdout",
     "output_type": "stream",
     "text": [
      "Input:3\n",
      "Output: 1875\n"
     ]
    }
   ],
   "source": [
    "#task 14\n",
    "S = int(input('Enter a number:'))\n",
    "\n",
    "if(S<100):\n",
    "    L = 3000- (125*S**2)\n",
    "    print(\"Output:\", L)\n",
    "else:\n",
    "    L = 12000/ (4+ (S**2/14900))\n",
    "    print(\"Output:\", L)"
   ]
  },
  {
   "cell_type": "code",
   "execution_count": 34,
   "id": "65ec48ff",
   "metadata": {},
   "outputs": [
    {
     "name": "stdout",
     "output_type": "stream",
     "text": [
      "Enter a number:27\n",
      "Worng time\n"
     ]
    }
   ],
   "source": [
    "#task 15\n",
    "S = int(input('Enter a number:'))\n",
    "if (S<0 or S>23):\n",
    "    print(\"Worng time\")\n",
    "elif (4<= S <=6):\n",
    "    print(\"Breakfast\")\n",
    "elif (12<= S <=13):\n",
    "    print(\"Lunch\")\n",
    "elif (16<= S <=17):  \n",
    "    print(\"Snacks\")\n",
    "elif (19<= S <=20):  \n",
    "    print(\"Dinner\") \n",
    "else:\n",
    "    print(\"Patience is a virtue\")"
   ]
  },
  {
   "cell_type": "code",
   "execution_count": null,
   "id": "21c4fbc9",
   "metadata": {},
   "outputs": [],
   "source": []
  }
 ],
 "metadata": {
  "kernelspec": {
   "display_name": "Python 3",
   "language": "python",
   "name": "python3"
  },
  "language_info": {
   "codemirror_mode": {
    "name": "ipython",
    "version": 3
   },
   "file_extension": ".py",
   "mimetype": "text/x-python",
   "name": "python",
   "nbconvert_exporter": "python",
   "pygments_lexer": "ipython3",
   "version": "3.8.8"
  }
 },
 "nbformat": 4,
 "nbformat_minor": 5
}
